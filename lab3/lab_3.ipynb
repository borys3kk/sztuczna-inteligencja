{
 "cells": [
  {
   "cell_type": "markdown",
   "metadata": {},
   "source": [
    "# Sieci neuronowe"
   ]
  },
  {
   "cell_type": "markdown",
   "metadata": {},
   "source": [
    "## Wstęp\n",
    "\n",
    "Celem laboratorium jest zapoznanie się z podstawami sieci neuronowych oraz uczeniem głębokim (*deep learning*). Zapoznasz się na nim z następującymi tematami:\n",
    "- treningiem prostych sieci neuronowych, w szczególności z:\n",
    "  - regresją liniową w sieciach neuronowych\n",
    "  - optymalizacją funkcji kosztu\n",
    "  - algorytmem spadku wzdłuż gradientu\n",
    "  - siecią typu Multilayer Perceptron (MLP)\n",
    "- frameworkiem PyTorch, w szczególności z:\n",
    "  - ładowaniem danych\n",
    "  - preprocessingiem danych\n",
    "  - pisaniem pętli treningowej i walidacyjnej\n",
    "  - walidacją modeli\n",
    "- architekturą i hiperaprametrami sieci MLP, w szczególności z:\n",
    "  - warstwami gęstymi (w pełni połączonymi)\n",
    "  - funkcjami aktywacji\n",
    "  - regularyzacją: L2, dropout"
   ]
  },
  {
   "cell_type": "markdown",
   "metadata": {},
   "source": [
    "## Wykorzystywane biblioteki\n",
    "\n",
    "Zaczniemy od pisania ręcznie prostych sieci w bibliotece Numpy, służącej do obliczeń numerycznych na CPU. Później przejdziemy do wykorzystywania frameworka PyTorch, służącego do obliczeń numerycznych na CPU, GPU oraz automatycznego różniczkowania, wykorzystywanego głównie do treningu sieci neuronowych.\n",
    "\n",
    "Wykorzystamy PyTorcha ze względu na popularność, łatwość instalacji i użycia, oraz dużą kontrolę nad niskopoziomowymi aspektami budowy i treningu sieci neuronowych. Framework ten został stworzony do zastosowań badawczych i naukowych, ale ze względu na wygodę użycia stał się bardzo popularny także w przemyśle. W szczególności całkowicie zdominował przetwarzanie języka naturalnego (NLP) oraz uczenie na grafach.\n",
    "\n",
    "Pierwszy duży framework do deep learningu, oraz obecnie najpopularniejszy, to TensorFlow, wraz z wysokopoziomową nakładką Keras. Są jednak szanse, że Google (autorzy) będzie go powoli porzucać na rzecz ich nowego frameworka JAX ([dyskusja](https://www.reddit.com/r/MachineLearning/comments/vfl57t/d_google_quietly_moving_its_products_from/), [artykuł Business Insidera](https://www.businessinsider.com/facebook-pytorch-beat-google-tensorflow-jax-meta-ai-2022-6?IR=T)), który jest bardzo świeżym, ale ciekawym narzędziem.\n",
    "\n",
    "Trzecia, ale znacznie mniej popularna od powyższych opcja to Apache MXNet."
   ]
  },
  {
   "cell_type": "markdown",
   "metadata": {},
   "source": [
    "## Konfiguracja własnego komputera\n",
    "\n",
    "Jeżeli korzystasz z własnego komputera, to musisz zainstalować trochę więcej bibliotek (Google Colab ma je już zainstalowane).\n",
    "\n",
    "Jeżeli nie masz GPU lub nie chcesz z niego korzystać, to wystarczy znaleźć odpowiednią komendę CPU [na stronie PyTorcha](https://pytorch.org/get-started/locally/). Dla Anacondy odpowiednia komenda została podana poniżej, dla pip'a znajdź ją na stronie.\n",
    "\n",
    "Jeżeli chcesz korzystać ze wsparcia GPU (na tym laboratorium nie będzie potrzebne, na kolejnych może przyspieszyć nieco obliczenia), to musi być to odpowiednio nowa karta NVidii, mająca CUDA compatibility ([lista](https://developer.nvidia.com/cuda-gpus)). Poza PyTorchem będzie potrzebne narzędzie NVidia CUDA w wersji 11.6 lub 11.7. Instalacja na Windowsie jest bardzo prosta (wystarczy ściągnąć plik EXE i zainstalować jak każdy inny program). Instalacja na Linuxie jest trudna i można względnie łatwo zepsuć sobie system, ale jeżeli chcesz spróbować, to [ten tutorial](https://www.youtube.com/results?search_query=nvidia+cuda+install+ubuntu+20.04) jest bardzo dobry."
   ]
  },
  {
   "cell_type": "code",
   "execution_count": 27,
   "metadata": {},
   "outputs": [
    {
     "name": "stdout",
     "output_type": "stream",
     "text": [
      "Collecting package metadata (current_repodata.json): - WARNING conda.models.version:get_matcher(542): Using .* with relational operator is superfluous and deprecated and will be removed in a future version of conda. Your spec was 1.7.1.*, but conda is ignoring the .* and treating it as 1.7.1\n",
      "done\n",
      "Solving environment: done\n",
      "\n",
      "\n",
      "==> WARNING: A newer version of conda exists. <==\n",
      "  current version: 22.9.0\n",
      "  latest version: 23.10.0\n",
      "\n",
      "Please update conda by running\n",
      "\n",
      "    $ conda update -n base -c defaults conda\n",
      "\n",
      "\n",
      "\n",
      "# All requested packages already installed.\n",
      "\n",
      "Retrieving notices: ...working... done\n"
     ]
    }
   ],
   "source": [
    "# for conda users\n",
    "!conda install -y matplotlib pandas pytorch torchvision -c pytorch -c conda-forge"
   ]
  },
  {
   "cell_type": "markdown",
   "metadata": {
    "id": "Othm3C2lLAsj"
   },
   "source": [
    "## Wprowadzenie\n",
    "\n",
    "Zanim zaczniemy naszą przygodę z sieciami neuronowymi, przyjrzyjmy się prostemu przykładowi regresji liniowej na syntetycznych danych:"
   ]
  },
  {
   "cell_type": "code",
   "execution_count": 1,
   "metadata": {
    "id": "rnJsfxbnLAsj"
   },
   "outputs": [],
   "source": [
    "from typing import Tuple, Dict\n",
    "\n",
    "import numpy as np\n",
    "import matplotlib.pyplot as plt"
   ]
  },
  {
   "cell_type": "code",
   "execution_count": 2,
   "metadata": {
    "colab": {
     "base_uri": "https://localhost:8080/",
     "height": 282
    },
    "id": "EaYpEXzBLAsl",
    "outputId": "2f8d2922-72f0-4d38-8548-d1262adf522e"
   },
   "outputs": [
    {
     "data": {
      "text/plain": [
       "<matplotlib.collections.PathCollection at 0x7efeeb134e80>"
      ]
     },
     "execution_count": 2,
     "metadata": {},
     "output_type": "execute_result"
    },
    {
     "data": {
      "image/png": "[encoded data removed]",
      "text/plain": [
       "<Figure size 640x480 with 1 Axes>"
      ]
     },
     "metadata": {},
     "output_type": "display_data"
    }
   ],
   "source": [
    "np.random.seed(0)\n",
    "\n",
    "x = np.linspace(0, 1, 100)\n",
    "y = x + np.random.normal(scale=0.1, size=x.shape)\n",
    "\n",
    "plt.scatter(x, y)"
   ]
  },
  {
   "cell_type": "markdown",
   "metadata": {
    "id": "PEM_-yKELAsl"
   },
   "source": [
    "W przeciwieństwie do laboratorium 1, tym razem będziemy chcieli rozwiązać ten problem własnoręcznie, bez użycia wysokopoziomowego interfejsu Scikit-learn'a. W tym celu musimy sobie przypomnieć sformułowanie naszego **problemu optymalizacyjnego (optimization problem)**.\n",
    "\n",
    "W przypadku prostej regresji liniowej (1 zmienna) mamy model postaci $\\hat{y} = \\alpha x + \\beta$, z dwoma parametrami, których będziemy się uczyć. Miarą niedopasowania modelu o danych parametrach jest **funkcja kosztu (cost function)**, nazywana też funkcją celu. Najczęściej używa się **błędu średniokwadratowego (mean squared error, MSE)**:\n",
    "$$\\large\n",
    "MSE = \\frac{1}{N} \\sum_{i}^{N} (y - \\hat{y})^2\n",
    "$$\n",
    "\n",
    "Od jakich $\\alpha$ i $\\beta$ zacząć? W najprostszym wypadku wystarczy po prostu je wylosować jako niewielkie liczby zmiennoprzecinkowe.\n",
    "\n",
    "#### Zadanie 1 (0.5 punkt)\n",
    "\n",
    "Uzupełnij kod funkcji `mse`, obliczającej błąd średniokwadratowy. Wykorzystaj Numpy'a w celu wektoryzacji obliczeń dla wydajności."
   ]
  },
  {
   "cell_type": "code",
   "execution_count": 3,
   "metadata": {
    "colab": {
     "base_uri": "https://localhost:8080/"
    },
    "id": "RaA7Q46TLAsm",
    "outputId": "5c57fe58-1934-4d21-9a7b-d14e9a23140b"
   },
   "outputs": [],
   "source": [
    "def mse(y: np.ndarray, y_hat: np.ndarray) -> float:\n",
    "    return np.mean((y-y_hat)**2)\n"
   ]
  },
  {
   "cell_type": "code",
   "execution_count": 4,
   "metadata": {
    "colab": {
     "base_uri": "https://localhost:8080/",
     "height": 282
    },
    "id": "qSGfamGbLAsm",
    "outputId": "733ce15f-ae75-466b-e7ee-eb3c9d9d534c"
   },
   "outputs": [
    {
     "name": "stdout",
     "output_type": "stream",
     "text": [
      "MSE: 0.133\n"
     ]
    },
    {
     "data": {
      "text/plain": [
       "[<matplotlib.lines.Line2D at 0x7efeea84a040>]"
      ]
     },
     "execution_count": 4,
     "metadata": {},
     "output_type": "execute_result"
    },
    {
     "data": {
      "image/png": "[encoded data removed]",
      "text/plain": [
       "<Figure size 640x480 with 1 Axes>"
      ]
     },
     "metadata": {},
     "output_type": "display_data"
    }
   ],
   "source": [
    "a = np.random.rand()\n",
    "b = np.random.rand()\n",
    "print(f\"MSE: {mse(y, a * x + b):.3f}\")\n",
    "\n",
    "plt.scatter(x, y)\n",
    "plt.plot(x, a * x + b, color=\"g\", linewidth=4)"
   ]
  },
  {
   "cell_type": "markdown",
   "metadata": {
    "id": "Y--E9Mp9LAsn"
   },
   "source": [
    "Losowe parametry radzą sobie nie najlepiej. Jak lepiej dopasować naszą prostą do danych? Zawsze możemy starać się wyprowadzić rozwiązanie analitycznie, i w tym wypadku nawet nam się uda. Jest to jednak szczególny i dość rzadki przypadek, a w szczególności nie będzie to możliwe w większych sieciach neuronowych.\n",
    "\n",
    "Potrzebna nam będzie **metoda optymalizacji (optimization method)**, dającą wartości parametrów minimalizujące dowolną różniczkowalną funkcję kosztu. Zdecydowanie najpopularniejszy jest tutaj **spadek wzdłuż gradientu (gradient descent)**.\n",
    "\n",
    "Metoda ta wywodzi się z prostych obserwacji, które tutaj przedstawimy. Bardziej szczegółowe rozwinięcie dla zainteresowanych: [sekcja 4.3 \"Deep Learning Book\"](https://www.deeplearningbook.org/contents/numerical.html), [ten praktyczny kurs](https://cs231n.github.io/optimization-1/), [analiza oryginalnej publikacji Cauchy'ego](https://www.math.uni-bielefeld.de/documenta/vol-ismp/40_lemarechal-claude.pdf) (oryginał w języku francuskim).\n",
    "\n",
    "Pochodna jest dokładnie równa granicy funkcji. Dla małego $\\epsilon$ można ją przybliżyć jako:\n",
    "$$\\large\n",
    "\\frac{f(x)}{dx} \\approx \\frac{f(x+\\epsilon) - f(x)}{\\epsilon}\n",
    "$$\n",
    "\n",
    "Przyglądając się temu równaniu widzimy, że: \n",
    "* dla funkcji rosnącej ($f(x+\\epsilon) > f(x)$) wyrażenie $\\frac{f(x)}{dx}$ będzie miało znak dodatni \n",
    "* dla funkcji malejącej ($f(x+\\epsilon) < f(x)$) wyrażenie $\\frac{f(x)}{dx}$ będzie miało znak ujemny \n",
    "\n",
    "Widzimy więc, że potrafimy wskazać kierunek zmniejszenia wartości funkcji, patrząc na znak pochodnej. Zaobserwowano także, że amplituda wartości w $\\frac{f(x)}{dx}$ jest tym większa, im dalej jesteśmy od minimum (maximum). Pochodna wyznacza więc, w jakim kierunku funkcja najszybciej rośnie, zaś przeciwny zwrot to ten, w którym funkcja najszybciej spada.\n",
    "\n",
    "Stosując powyższe do optymalizacji, mamy:\n",
    "$$\\large\n",
    "x_{t+1} = x_{t} -  \\alpha * \\frac{f(x)}{dx}\n",
    "$$\n",
    "\n",
    "$\\alpha$ to niewielka wartość (rzędu zwykle $10^{-5}$ - $10^{-2}$), wprowadzona, aby trzymać się założenia o małej zmianie parametrów ($\\epsilon$). Nazywa się ją **stałą uczącą (learning rate)** i jest zwykle najważniejszym hiperparametrem podczas nauki sieci.\n",
    "\n",
    "Metoda ta zakłada, że używamy całego zbioru danych do aktualizacji parametrów w każdym kroku, co nazywa się po prostu GD (od *gradient descent*) albo *full batch GD*. Wtedy każdy krok optymalizacji nazywa się **epoką (epoch)**.\n",
    "\n",
    "Im większa stała ucząca, tym większe nasze kroki podczas minimalizacji. Możemy więc uczyć szybciej, ale istnieje ryzyko, że będziemy \"przeskakiwać\" minima. Mniejsza stała ucząca to wolniejszy, ale dokładniejszy trening. Jednak nie zawsze ona pozwala osiągnąć lepsze wyniki, bo może okazać się, że utkniemy w minimum lokalnym. Można także zmieniać stałą uczącą podczas treningu, co nazywa się **learning rate scheduling (LR scheduling)**. Obrazowo:\n",
    "\n",
    "![learning_rate](http://www.bdhammel.com/assets/learning-rate/lr-types.png)"
   ]
  },
  {
   "cell_type": "markdown",
   "metadata": {
    "id": "496qEjkVLAso"
   },
   "source": [
    "![interactive LR](http://cdn-images-1.medium.com/max/640/1*eeIvlwkMNG1wSmj3FR6M2g.gif)"
   ]
  },
  {
   "cell_type": "markdown",
   "metadata": {
    "id": "RYkyAHKzLAsp"
   },
   "source": [
    "Policzmy więc pochodną dla naszej funkcji kosztu MSE. Pochodną liczymy po parametrach naszego modelu, bo to właśnie ich chcemy dopasować tak, żeby koszt był jak najmniejszy:\n",
    "\n",
    "$$\\large\n",
    "MSE = \\frac{1}{N} \\sum_{i}^{N} (y_i - \\hat{y_i})^2\n",
    "$$\n",
    "\n",
    "W powyższym wzorze tylko $y_i$ jest zależny od $a$ oraz $b$. Możemy wykorzystać tu regułę łańcuchową (*chain rule*) i policzyć pochodne po naszych parametrach w sposób następujący:\n",
    "\n",
    "$$\\large\n",
    "\\frac{\\text{d} MSE}{\\text{d} a} = \\frac{1}{N} \\sum_{i}^{N} \\frac{\\text{d} (y_i - \\hat{y_i})^2}{\\text{d} \\hat{y_i}} \\frac{\\text{d} \\hat{y_i}}{\\text{d} a}\n",
    "$$\n",
    "\n",
    "$$\\large\n",
    "\\frac{\\text{d} MSE}{\\text{d} b} = \\frac{1}{N} \\sum_{i}^{N} \\frac{\\text{d} (y_i - \\hat{y_i})^2}{\\text{d} \\hat{y_i}} \\frac{\\text{d} \\hat{y_i}}{\\text{d} b}\n",
    "$$\n",
    "\n",
    "Policzmy te pochodne po kolei:\n",
    "\n",
    "$$\\large\n",
    "\\frac{\\text{d} (y_i - \\hat{y_i})^2}{\\text{d} \\hat{y_i}} = -2 \\cdot (y_i - \\hat{y_i})\n",
    "$$\n",
    "\n",
    "$$\\large\n",
    "\\frac{\\text{d} \\hat{y_i}}{\\text{d} a} = x_i\n",
    "$$\n",
    "\n",
    "$$\\large\n",
    "\\frac{\\text{d} \\hat{y_i}}{\\text{d} b} = 1\n",
    "$$\n",
    "\n",
    "Łącząc powyższe wyniki dostaniemy:\n",
    "\n",
    "$$\\large\n",
    "\\frac{\\text{d} MSE}{\\text{d} a} = \\frac{-2}{N} \\sum_{i}^{N} (y_i - \\hat{y_i}) \\cdot {x_i}\n",
    "$$\n",
    "\n",
    "$$\\large\n",
    "\\frac{\\text{d} MSE}{\\text{d} b} = \\frac{-2}{N} \\sum_{i}^{N} (y_i - \\hat{y_i})\n",
    "$$\n",
    "\n",
    "Aktualizacja parametrów wygląda tak:\n",
    "\n",
    "$$\\large\n",
    "a' = a - \\alpha * \\left( \\frac{-2}{N} \\sum_{i=1}^N (y_i - \\hat{y}_i) \\cdot x_i \\right)\n",
    "$$\n",
    "$$\\large\n",
    "b' = b - \\alpha * \\left( \\frac{-2}{N} \\sum_{i=1}^N (y_i - \\hat{y}_i) \\right)\n",
    "$$\n",
    "\n",
    "Liczymy więc pochodną funkcji kosztu, a potem za pomocą reguły łańcuchowej \"cofamy się\", dochodząc do tego, jak każdy z parametrów wpływa na błąd i w jaki sposób powinniśmy go zmienić. Nazywa się to **propagacją wsteczną (backpropagation)** i jest podstawowym mechanizmem umożliwiającym naukę sieci neuronowych za pomocą spadku wzdłuż gradientu. Więcej możesz o tym przeczytać [tutaj](https://cs231n.github.io/optimization-2/)."
   ]
  },
  {
   "cell_type": "markdown",
   "metadata": {},
   "source": [
    "\n",
    "#### Zadanie 2 (1.0 punkt)\n",
    "\n",
    "Zaimplementuj funkcję realizującą jedną epokę treningową. Zauważ, że `x` oraz `y` są wektorami. Oblicz predykcję przy aktualnych parametrach oraz zaktualizuj je zgodnie z powyższymi wzorami."
   ]
  },
  {
   "cell_type": "code",
   "execution_count": 5,
   "metadata": {
    "colab": {
     "base_uri": "https://localhost:8080/"
    },
    "id": "4qbdWOSULAsp",
    "outputId": "055607ae-87aa-470a-e6da-25682c82d470"
   },
   "outputs": [],
   "source": [
    "def optimize(\n",
    "    x: np.ndarray, y: np.ndarray, a: float, b: float, learning_rate: float = 0.1\n",
    "):\n",
    "    y_hat = a * x + b\n",
    "    errors = y - y_hat\n",
    "    # implement me!\n",
    "    # your_code\n",
    "    a_prim = a - learning_rate * (-2) * np.mean((y-y_hat) * x)\n",
    "    b_prim = b - learning_rate * (-2) * np.mean((y-y_hat))\n",
    "    \n",
    "    return a_prim, b_prim\n"
   ]
  },
  {
   "cell_type": "code",
   "execution_count": 6,
   "metadata": {},
   "outputs": [
    {
     "name": "stdout",
     "output_type": "stream",
     "text": [
      "step 0 loss:  0.1330225119404028\n",
      "step 100 loss:  0.012673197778527677\n",
      "step 200 loss:  0.010257153540857817\n",
      "step 300 loss:  0.0100948037549359\n",
      "step 400 loss:  0.010083894412889118\n",
      "step 500 loss:  0.010083161342973332\n",
      "step 600 loss:  0.010083112083219709\n",
      "step 700 loss:  0.010083108773135261\n",
      "step 800 loss:  0.010083108550709076\n",
      "step 900 loss:  0.01008310853576281\n",
      "final loss: 0.010083108534760455\n"
     ]
    }
   ],
   "source": [
    "for i in range(1000):\n",
    "    loss = mse(y, a * x + b)\n",
    "    a, b = optimize(x, y, a, b)\n",
    "    if i % 100 == 0:\n",
    "        print(f\"step {i} loss: \", loss)\n",
    "\n",
    "print(\"final loss:\", loss)"
   ]
  },
  {
   "cell_type": "code",
   "execution_count": 7,
   "metadata": {
    "colab": {
     "base_uri": "https://localhost:8080/",
     "height": 282
    },
    "id": "xOgRcPC1LAsq",
    "outputId": "85b0b3e4-aa0d-467a-d8ff-5f01be17b243",
    "scrolled": false
   },
   "outputs": [
    {
     "data": {
      "text/plain": [
       "[<matplotlib.lines.Line2D at 0x7efeea830e20>]"
      ]
     },
     "execution_count": 7,
     "metadata": {},
     "output_type": "execute_result"
    },
    {
     "data": {
      "image/png": "[encoded data removed]",
      "text/plain": [
       "<Figure size 640x480 with 1 Axes>"
      ]
     },
     "metadata": {},
     "output_type": "display_data"
    }
   ],
   "source": [
    "plt.scatter(x, y)\n",
    "plt.plot(x, a * x + b, color=\"g\", linewidth=4)"
   ]
  },
  {
   "cell_type": "markdown",
   "metadata": {
    "id": "vOr2fWYpLAsq"
   },
   "source": [
    "Udało ci się wytrenować swoją pierwszą sieć neuronową. Czemu? Otóż neuron to po prostu wektor parametrów, a zwykle robimy iloczyn skalarny tych parametrów z wejściem. Dodatkowo na wyjście nakłada się **funkcję aktywacji (activation function)**, która przekształca wyjście. Tutaj takiej nie było, a właściwie była to po prostu funkcja identyczności.\n",
    "\n",
    "Oczywiście w praktyce korzystamy z odpowiedniego frameworka, który w szczególności:\n",
    "- ułatwia budowanie sieci, np. ma gotowe klasy dla warstw neuronów\n",
    "- ma zaimplementowane funkcje kosztu oraz ich pochodne\n",
    "- sam różniczkuje ze względu na odpowiednie parametry i aktualizuje je odpowiednio podczas treningu\n"
   ]
  },
  {
   "cell_type": "markdown",
   "metadata": {
    "id": "NJBYJabuLAsr"
   },
   "source": [
    "## Wprowadzenie do PyTorcha"
   ]
  },
  {
   "cell_type": "markdown",
   "metadata": {
    "id": "EB-99XqhLAsr"
   },
   "source": [
    "PyTorch to w gruncie rzeczy narzędzie do algebry liniowej z [automatycznym rożniczkowaniem](https://pytorch.org/tutorials/beginner/blitz/autograd_tutorial.html), z możliwością przyspieszenia obliczeń z pomocą GPU. Na tych fundamentach zbudowany jest pełny framework do uczenia głębokiego. Można spotkać się ze stwierdzenie, że PyTorch to NumPy + GPU + opcjonalne różniczkowanie, co jest całkiem celne. Plus można łatwo debugować printem :)\n",
    "\n",
    "PyTorch używa dynamicznego grafu obliczeń, który sami definiujemy w kodzie. Takie podejście jest bardzo wygodne, elastyczne i pozwala na łatwe eksperymentowanie. Odbywa się to potencjalnie kosztem wydajności, ponieważ pozostawia kwestię optymalizacji programiście. Więcej na ten temat dla zainteresowanych na końcu laboratorium.\n",
    "\n",
    "Samo API PyTorcha bardzo przypomina Numpy'a, a podstawowym obiektem jest `Tensor`, klasa reprezentująca tensory dowolnego wymiaru. Dodatkowo niektóre tensory będą miały automatycznie obliczony gradient. Co ważne, tensor jest na pewnym urządzeniu, CPU lub GPU, a przenosić między nimi trzeba explicite.\n",
    "\n",
    "Najważniejsze moduły:\n",
    "- `torch` - podstawowe klasy oraz funkcje, np. `Tensor`, `from_numpy()`\n",
    "- `torch.nn` - klasy związane z sieciami neuronowymi, np. `Linear`, `Sigmoid`\n",
    "- `torch.optim` - wszystko związane z optymalizacją, głównie spadkiem wzdłuż gradientu"
   ]
  },
  {
   "cell_type": "code",
   "execution_count": 8,
   "metadata": {
    "id": "FwuIt8S-LAss"
   },
   "outputs": [],
   "source": [
    "import torch\n",
    "import torch.nn as nn\n",
    "import torch.optim as optim"
   ]
  },
  {
   "cell_type": "code",
   "execution_count": 9,
   "metadata": {
    "colab": {
     "base_uri": "https://localhost:8080/"
    },
    "id": "bfCiUFXULAss",
    "outputId": "83f6231d-ecc4-461a-b758-fdc4bc2a88a4"
   },
   "outputs": [
    {
     "name": "stdout",
     "output_type": "stream",
     "text": [
      "tensor([1.4654, 1.6137, 1.1633, 1.8279, 1.4265, 1.4094, 1.7785, 1.9391, 1.9650,\n",
      "        1.2956])\n",
      "tensor([0.4654, 0.6137, 0.1633, 0.8279, 0.4265, 0.4094, 0.7785, 0.9391, 0.9650,\n",
      "        0.2956])\n",
      "tensor(5.8845)\n"
     ]
    }
   ],
   "source": [
    "ones = torch.ones(10)\n",
    "noise = torch.ones(10) * torch.rand(10)\n",
    "\n",
    "# elementwise sum\n",
    "print(ones + noise)\n",
    "\n",
    "# elementwise multiplication\n",
    "print(ones * noise)\n",
    "\n",
    "# dot product\n",
    "print(ones @ noise)"
   ]
  },
  {
   "cell_type": "code",
   "execution_count": 10,
   "metadata": {
    "id": "ynNd_kD0LAst"
   },
   "outputs": [],
   "source": [
    "# beware - shares memory with original Numpy array!\n",
    "# very fast, but modifications are visible to original variable\n",
    "x = torch.from_numpy(x)\n",
    "y = torch.from_numpy(y)"
   ]
  },
  {
   "cell_type": "markdown",
   "metadata": {
    "id": "W9kkxczELAsu"
   },
   "source": [
    "Jeżeli dla stworzonych przez nas tensorów chcemy śledzić operacje i obliczać gradient, to musimy oznaczyć `requires_grad=True`."
   ]
  },
  {
   "cell_type": "code",
   "execution_count": 11,
   "metadata": {
    "colab": {
     "base_uri": "https://localhost:8080/"
    },
    "id": "8HtZL-KfLAsu",
    "outputId": "47c6d930-5678-452a-95bc-227935138b40"
   },
   "outputs": [
    {
     "data": {
      "text/plain": [
       "(tensor([0.9098], requires_grad=True), tensor([0.2857], requires_grad=True))"
      ]
     },
     "execution_count": 11,
     "metadata": {},
     "output_type": "execute_result"
    }
   ],
   "source": [
    "a = torch.rand(1, requires_grad=True)\n",
    "b = torch.rand(1, requires_grad=True)\n",
    "a, b"
   ]
  },
  {
   "cell_type": "markdown",
   "metadata": {
    "id": "Nl1guWZ_LAsv"
   },
   "source": [
    "PyTorch zawiera większość powszechnie używanych funkcji kosztu, np. MSE. Mogą być one używane na 2 sposoby, z czego pierwszy jest popularniejszy:\n",
    "- jako klasy wywoływalne z modułu `torch.nn`\n",
    "- jako funkcje z modułu `torch.nn.functional`\n",
    "\n",
    "Po wykonaniu poniższego kodu widzimy, że zwraca on nam tensor z dodatkowymi atrybutami. Co ważne, jest to skalar (0-wymiarowy tensor), bo potrzebujemy zwyczajnej liczby do obliczania propagacji wstecznych (pochodnych czątkowych)."
   ]
  },
  {
   "cell_type": "code",
   "execution_count": 12,
   "metadata": {},
   "outputs": [
    {
     "data": {
      "text/plain": [
       "tensor(0.0654, dtype=torch.float64, grad_fn=<MseLossBackward0>)"
      ]
     },
     "execution_count": 12,
     "metadata": {},
     "output_type": "execute_result"
    }
   ],
   "source": [
    "mse = nn.MSELoss()\n",
    "mse(y, a * x + b)"
   ]
  },
  {
   "cell_type": "markdown",
   "metadata": {
    "id": "vS35r49nLAsw"
   },
   "source": [
    "Atrybutu `grad_fn` nie używamy wprost, bo korzysta z niego w środku PyTorch, ale widać, że tensor jest \"świadomy\", że liczy się na nim pochodną. Możemy natomiast skorzystać z atrybutu `grad`, który zawiera faktyczny gradient. Zanim go jednak dostaniemy, to trzeba powiedzieć PyTorchowi, żeby policzył gradient. Służy do tego metoda `.backward()`, wywoływana na obiekcie zwracanym przez funkcję kosztu."
   ]
  },
  {
   "cell_type": "code",
   "execution_count": 13,
   "metadata": {
    "id": "Qb7l6Xg1LAsx"
   },
   "outputs": [],
   "source": [
    "loss = mse(y, a * x + b)\n",
    "loss.backward()"
   ]
  },
  {
   "cell_type": "code",
   "execution_count": 14,
   "metadata": {
    "colab": {
     "base_uri": "https://localhost:8080/"
    },
    "id": "6LfQbLVoLAsx",
    "outputId": "d5b87fb7-d284-423c-f467-b677384b2f67"
   },
   "outputs": [
    {
     "name": "stdout",
     "output_type": "stream",
     "text": [
      "tensor([0.2243])\n"
     ]
    }
   ],
   "source": [
    "print(a.grad)"
   ]
  },
  {
   "cell_type": "markdown",
   "metadata": {
    "id": "Kdf1iweELAsy"
   },
   "source": [
    "Ważne jest, że PyTorch nie liczy za każdym razem nowego gradientu, tylko dodaje go do istniejącego, czyli go akumuluje. Jest to przydatne w niektórych sieciach neuronowych, ale zazwyczaj trzeba go zerować. Jeżeli tego nie zrobimy, to dostaniemy coraz większe gradienty.\n",
    "\n",
    "Do zerowania służy metoda `.zero_()`. W PyTorchu wszystkie metody modyfikujące tensor w miejscu mają `_` na końcu nazwy. Jest to dość niskopoziomowa operacja dla pojedynczych tensorów - zobaczymy za chwilę, jak to robić łatwiej dla całej sieci."
   ]
  },
  {
   "cell_type": "code",
   "execution_count": 15,
   "metadata": {
    "colab": {
     "base_uri": "https://localhost:8080/"
    },
    "id": "DiCQZKJsLAsy",
    "outputId": "2f779622-480d-43fc-b9d0-a0e36ff4b28b"
   },
   "outputs": [
    {
     "data": {
      "text/plain": [
       "tensor([0.4486])"
      ]
     },
     "execution_count": 15,
     "metadata": {},
     "output_type": "execute_result"
    }
   ],
   "source": [
    "loss = mse(y, a * x + b)\n",
    "loss.backward()\n",
    "a.grad"
   ]
  },
  {
   "cell_type": "markdown",
   "metadata": {
    "id": "xNC3Ag8uLAsz"
   },
   "source": [
    "Zobaczmy, jak wyglądałaby regresja liniowa, ale napisana w PyTorchu. Jest to oczywiście bardzo niskopoziomowa implementacja - za chwilę zobaczymy, jak to wygląda w praktyce."
   ]
  },
  {
   "cell_type": "code",
   "execution_count": 16,
   "metadata": {
    "colab": {
     "base_uri": "https://localhost:8080/"
    },
    "id": "AKnxyeboLAsz",
    "outputId": "2f939474-901a-4773-9704-686a40ae6e8e"
   },
   "outputs": [
    {
     "name": "stdout",
     "output_type": "stream",
     "text": [
      "step 0 loss:  tensor(0.0654, dtype=torch.float64, grad_fn=<MseLossBackward0>)\n",
      "step 100 loss:  tensor(0.0102, dtype=torch.float64, grad_fn=<MseLossBackward0>)\n",
      "step 200 loss:  tensor(0.0101, dtype=torch.float64, grad_fn=<MseLossBackward0>)\n",
      "step 300 loss:  tensor(0.0101, dtype=torch.float64, grad_fn=<MseLossBackward0>)\n",
      "step 400 loss:  tensor(0.0101, dtype=torch.float64, grad_fn=<MseLossBackward0>)\n",
      "step 500 loss:  tensor(0.0101, dtype=torch.float64, grad_fn=<MseLossBackward0>)\n",
      "step 600 loss:  tensor(0.0101, dtype=torch.float64, grad_fn=<MseLossBackward0>)\n",
      "step 700 loss:  tensor(0.0101, dtype=torch.float64, grad_fn=<MseLossBackward0>)\n",
      "step 800 loss:  tensor(0.0101, dtype=torch.float64, grad_fn=<MseLossBackward0>)\n",
      "step 900 loss:  tensor(0.0101, dtype=torch.float64, grad_fn=<MseLossBackward0>)\n",
      "final loss: tensor(0.0101, dtype=torch.float64, grad_fn=<MseLossBackward0>)\n"
     ]
    }
   ],
   "source": [
    "learning_rate = 0.1\n",
    "for i in range(1000):\n",
    "    loss = mse(y, a * x + b)\n",
    "\n",
    "    # compute gradients\n",
    "    loss.backward()\n",
    "\n",
    "    # update parameters\n",
    "    a.data -= learning_rate * a.grad\n",
    "    b.data -= learning_rate * b.grad\n",
    "\n",
    "    # zero gradients\n",
    "    a.grad.data.zero_()\n",
    "    b.grad.data.zero_()\n",
    "\n",
    "    if i % 100 == 0:\n",
    "        print(f\"step {i} loss: \", loss)\n",
    "\n",
    "print(\"final loss:\", loss)"
   ]
  },
  {
   "cell_type": "markdown",
   "metadata": {
    "id": "2DXNVhshmmI-"
   },
   "source": [
    "Trening modeli w PyTorchu jest dosyć schematyczny i najczęściej rozdziela się go na kilka bloków, dających razem **pętlę uczącą (training loop)**, powtarzaną w każdej epoce:\n",
    "1. Forward pass - obliczenie predykcji sieci\n",
    "2. Loss calculation\n",
    "3. Backpropagation - obliczenie pochodnych oraz zerowanie gradientów\n",
    "4. Optimalization - aktualizacja wag\n",
    "5. Other - ewaluacja na zbiorze walidacyjnym, logging etc."
   ]
  },
  {
   "cell_type": "code",
   "execution_count": 17,
   "metadata": {
    "colab": {
     "base_uri": "https://localhost:8080/"
    },
    "id": "2etpw7TNLAs0",
    "outputId": "8ac35c12-6c70-41ec-bf57-414456fc3c96",
    "scrolled": true
   },
   "outputs": [
    {
     "name": "stdout",
     "output_type": "stream",
     "text": [
      "step 0 loss: 0.0277\n",
      "step 100 loss: 0.0103\n",
      "step 200 loss: 0.0101\n",
      "step 300 loss: 0.0101\n",
      "step 400 loss: 0.0101\n",
      "step 500 loss: 0.0101\n",
      "step 600 loss: 0.0101\n",
      "step 700 loss: 0.0101\n",
      "step 800 loss: 0.0101\n",
      "step 900 loss: 0.0101\n",
      "final loss: tensor(0.0101, dtype=torch.float64, grad_fn=<MseLossBackward0>)\n"
     ]
    }
   ],
   "source": [
    "# initialization\n",
    "learning_rate = 0.1\n",
    "a = torch.rand(1, requires_grad=True)\n",
    "b = torch.rand(1, requires_grad=True)\n",
    "optimizer = torch.optim.SGD([a, b], lr=learning_rate)\n",
    "best_loss = float(\"inf\")\n",
    "\n",
    "# training loop in each epoch\n",
    "for i in range(1000):\n",
    "    # forward pass\n",
    "    y_hat = a * x + b\n",
    "\n",
    "    # loss calculation\n",
    "    loss = mse(y, y_hat)\n",
    "\n",
    "    # backpropagation\n",
    "    loss.backward()\n",
    "\n",
    "    # optimization\n",
    "    optimizer.step()\n",
    "    optimizer.zero_grad()  # zeroes all gradients - very convenient!\n",
    "\n",
    "    if i % 100 == 0:\n",
    "        if loss < best_loss:\n",
    "            best_model = (a.clone(), b.clone())\n",
    "            best_loss = loss\n",
    "        print(f\"step {i} loss: {loss.item():.4f}\")\n",
    "\n",
    "print(\"final loss:\", loss)"
   ]
  },
  {
   "cell_type": "markdown",
   "metadata": {},
   "source": [
    "Przejdziemy teraz do budowy sieci neuronowej do klasyfikacji. Typowo implementuje się ją po prostu jako sieć dla regresji, ale zwracającą tyle wyników, ile mamy klas, a potem aplikuje się na tym funkcję sigmoidalną (2 klasy) lub softmax (>2 klasy). W przypadku klasyfikacji binarnej zwraca się czasem tylko 1 wartość, przepuszczaną przez sigmoidę - wtedy wyjście z sieci to prawdopodobieństwo klasy pozytywnej.\n",
    "\n",
    "Funkcją kosztu zwykle jest **entropia krzyżowa (cross-entropy)**, stosowana też w klasycznej regresji logistycznej. Co ważne, sieci neuronowe, nawet tak proste, uczą się szybciej i stabilniej, gdy dane na wejściu (a przynajmniej zmienne numeryczne) są **ustandaryzowane (standardized)**. Operacja ta polega na odjęciu średniej i podzieleniu przez odchylenie standardowe (tzw. *Z-score transformation*).\n",
    "\n",
    "**Uwaga - PyTorch wymaga tensora klas będącego liczbami zmiennoprzecinkowymi!**"
   ]
  },
  {
   "cell_type": "markdown",
   "metadata": {},
   "source": [
    "## Zbiór danych"
   ]
  },
  {
   "cell_type": "markdown",
   "metadata": {},
   "source": [
    "Na tym laboratorium wykorzystamy zbiór [Adult Census](https://archive.ics.uci.edu/ml/datasets/adult). Dotyczy on przewidywania na podstawie danych demograficznych, czy dany człowiek zarabia powyżej 50 tysięcy dolarów rocznie, czy też mniej. Jest to cenna informacja np. przy planowaniu kampanii marketingowych. Jak możesz się domyślić, zbiór pochodzi z czasów, kiedy inflacja była dużo niższa :)\n",
    "\n",
    "Poniżej znajduje się kod do ściągnięcia i preprocessingu zbioru. Nie musisz go dokładnie analizować."
   ]
  },
  {
   "cell_type": "code",
   "execution_count": 18,
   "metadata": {
    "colab": {
     "base_uri": "https://localhost:8080/"
    },
    "id": "4DNsaZAnLAs0",
    "outputId": "70822008-530d-4173-deb9-8149a9fe5b41",
    "scrolled": true
   },
   "outputs": [
    {
     "name": "stdout",
     "output_type": "stream",
     "text": [
      "--2023-11-21 09:59:59--  https://archive.ics.uci.edu/ml/machine-learning-databases/adult/adult.data\n",
      "Resolving archive.ics.uci.edu (archive.ics.uci.edu)... ::ffff:128.195.10.252, 128.195.10.252\n",
      "Connecting to archive.ics.uci.edu (archive.ics.uci.edu)|::ffff:128.195.10.252|:443... connected.\n",
      "HTTP request sent, awaiting response... 200 OK\n",
      "Length: unspecified\n",
      "Saving to: ‘adult.data.1’\n",
      "\n",
      "adult.data.1            [             <=>    ]   3.79M  1.12MB/s    in 3.4s    \n",
      "\n",
      "2023-11-21 10:00:04 (1.12 MB/s) - ‘adult.data.1’ saved [3974305]\n",
      "\n"
     ]
    }
   ],
   "source": [
    "# !wget https://archive.ics.uci.edu/ml/machine-learning-databases/adult/adult.data"
   ]
  },
  {
   "cell_type": "code",
   "execution_count": 64,
   "metadata": {},
   "outputs": [
    {
     "data": {
      "text/plain": [
       "array([' <=50K', ' >50K'], dtype=object)"
      ]
     },
     "execution_count": 64,
     "metadata": {},
     "output_type": "execute_result"
    }
   ],
   "source": [
    "import pandas as pd\n",
    "\n",
    "\n",
    "columns = [\n",
    "    \"age\",\n",
    "    \"workclass\",\n",
    "    \"fnlwgt\",\n",
    "    \"education\",\n",
    "    \"education-num\",\n",
    "    \"marital-status\",\n",
    "    \"occupation\",\n",
    "    \"relationship\",\n",
    "    \"race\",\n",
    "    \"sex\",\n",
    "    \"capital-gain\",\n",
    "    \"capital-loss\",\n",
    "    \"hours-per-week\",\n",
    "    \"native-country\",\n",
    "    \"wage\"\n",
    "]\n",
    "\n",
    "\"\"\"\n",
    "age: continuous.\n",
    "workclass: Private, Self-emp-not-inc, Self-emp-inc, Federal-gov, Local-gov, State-gov, Without-pay, Never-worked.\n",
    "fnlwgt: continuous.\n",
    "education: Bachelors, Some-college, 11th, HS-grad, Prof-school, Assoc-acdm, Assoc-voc, 9th, 7th-8th, 12th, Masters, 1st-4th, 10th, Doctorate, 5th-6th, Preschool.\n",
    "education-num: continuous.\n",
    "marital-status: Married-civ-spouse, Divorced, Never-married, Separated, Widowed, Married-spouse-absent, Married-AF-spouse.\n",
    "occupation: Tech-support, Craft-repair, Other-service, Sales, Exec-managerial, Prof-specialty, Handlers-cleaners, Machine-op-inspct, Adm-clerical, Farming-fishing, Transport-moving, Priv-house-serv, Protective-serv, Armed-Forces.\n",
    "relationship: Wife, Own-child, Husband, Not-in-family, Other-relative, Unmarried.\n",
    "race: White, Asian-Pac-Islander, Amer-Indian-Eskimo, Other, Black.\n",
    "sex: Female, Male.\n",
    "capital-gain: continuous.\n",
    "capital-loss: continuous.\n",
    "hours-per-week: continuous.\n",
    "native-country: United-States, Cambodia, England, Puerto-Rico, Canada, Germany, Outlying-US(Guam-USVI-etc), India, Japan, Greece, South, China, Cuba, Iran, Honduras, Philippines, Italy, Poland, Jamaica, Vietnam, Mexico, Portugal, Ireland, France, Dominican-Republic, Laos, Ecuador, Taiwan, Haiti, Columbia, Hungary, Guatemala, Nicaragua, Scotland, Thailand, Yugoslavia, El-Salvador, Trinadad&Tobago, Peru, Hong, Holand-Netherlands.\n",
    "\"\"\"\n",
    "\n",
    "df = pd.read_csv(\"adult.data\", header=None, names=columns)\n",
    "df.wage.unique()"
   ]
  },
  {
   "cell_type": "code",
   "execution_count": 65,
   "metadata": {},
   "outputs": [],
   "source": [
    "# attribution: https://www.kaggle.com/code/royshih23/topic7-classification-in-python\n",
    "df['education'].replace('Preschool', 'dropout',inplace=True)\n",
    "df['education'].replace('10th', 'dropout',inplace=True)\n",
    "df['education'].replace('11th', 'dropout',inplace=True)\n",
    "df['education'].replace('12th', 'dropout',inplace=True)\n",
    "df['education'].replace('1st-4th', 'dropout',inplace=True)\n",
    "df['education'].replace('5th-6th', 'dropout',inplace=True)\n",
    "df['education'].replace('7th-8th', 'dropout',inplace=True)\n",
    "df['education'].replace('9th', 'dropout',inplace=True)\n",
    "df['education'].replace('HS-Grad', 'HighGrad',inplace=True)\n",
    "df['education'].replace('HS-grad', 'HighGrad',inplace=True)\n",
    "df['education'].replace('Some-college', 'CommunityCollege',inplace=True)\n",
    "df['education'].replace('Assoc-acdm', 'CommunityCollege',inplace=True)\n",
    "df['education'].replace('Assoc-voc', 'CommunityCollege',inplace=True)\n",
    "df['education'].replace('Bachelors', 'Bachelors',inplace=True)\n",
    "df['education'].replace('Masters', 'Masters',inplace=True)\n",
    "df['education'].replace('Prof-school', 'Masters',inplace=True)\n",
    "df['education'].replace('Doctorate', 'Doctorate',inplace=True)\n",
    "\n",
    "df['marital-status'].replace('Never-married', 'NotMarried',inplace=True)\n",
    "df['marital-status'].replace(['Married-AF-spouse'], 'Married',inplace=True)\n",
    "df['marital-status'].replace(['Married-civ-spouse'], 'Married',inplace=True)\n",
    "df['marital-status'].replace(['Married-spouse-absent'], 'NotMarried',inplace=True)\n",
    "df['marital-status'].replace(['Separated'], 'Separated',inplace=True)\n",
    "df['marital-status'].replace(['Divorced'], 'Separated',inplace=True)\n",
    "df['marital-status'].replace(['Widowed'], 'Widowed',inplace=True)"
   ]
  },
  {
   "cell_type": "code",
   "execution_count": 66,
   "metadata": {
    "colab": {
     "base_uri": "https://localhost:8080/"
    },
    "id": "LiOxs_6mLAs1",
    "outputId": "c95418cf-2632-41d0-de0a-9caf109de113",
    "scrolled": true
   },
   "outputs": [
    {
     "name": "stderr",
     "output_type": "stream",
     "text": [
      "/opt/conda/lib/python3.9/site-packages/sklearn/preprocessing/_encoders.py:975: FutureWarning: `sparse` was renamed to `sparse_output` in version 1.2 and will be removed in 1.4. `sparse_output` is ignored unless you leave `sparse` to its default value.\n",
      "  warnings.warn(\n"
     ]
    },
    {
     "data": {
      "text/plain": [
       "((20838, 108), (20838,))"
      ]
     },
     "execution_count": 66,
     "metadata": {},
     "output_type": "execute_result"
    }
   ],
   "source": [
    "from sklearn.model_selection import train_test_split\n",
    "from sklearn.preprocessing import MinMaxScaler, OneHotEncoder, StandardScaler\n",
    "\n",
    "\n",
    "X = df.copy()\n",
    "y = (X.pop(\"wage\") == ' >50K').astype(int).values\n",
    "\n",
    "train_valid_size = 0.2\n",
    "\n",
    "X_train, X_test, y_train, y_test = train_test_split(\n",
    "    X, y, \n",
    "    test_size=train_valid_size, \n",
    "    random_state=0, \n",
    "    shuffle=True, \n",
    "    stratify=y\n",
    ")\n",
    "X_train, X_valid, y_train, y_valid = train_test_split(\n",
    "    X_train, y_train, \n",
    "    test_size=train_valid_size, \n",
    "    random_state=0, \n",
    "    shuffle=True, \n",
    "    stratify=y_train\n",
    ")\n",
    "\n",
    "continuous_cols = ['age', 'fnlwgt', 'education-num', 'capital-gain', 'capital-loss', 'hours-per-week']\n",
    "continuous_X_train = X_train[continuous_cols]\n",
    "categorical_X_train = X_train.loc[:, ~X_train.columns.isin(continuous_cols)]\n",
    "\n",
    "continuous_X_valid = X_valid[continuous_cols]\n",
    "categorical_X_valid = X_valid.loc[:, ~X_valid.columns.isin(continuous_cols)]\n",
    "\n",
    "continuous_X_test = X_test[continuous_cols]\n",
    "categorical_X_test = X_test.loc[:, ~X_test.columns.isin(continuous_cols)]\n",
    "\n",
    "categorical_encoder = OneHotEncoder(sparse=False, handle_unknown='ignore')\n",
    "continuous_scaler = StandardScaler() #MinMaxScaler(feature_range=(-1, 1))\n",
    "\n",
    "categorical_encoder.fit(categorical_X_train)\n",
    "continuous_scaler.fit(continuous_X_train)\n",
    "\n",
    "continuous_X_train = continuous_scaler.transform(continuous_X_train)\n",
    "continuous_X_valid = continuous_scaler.transform(continuous_X_valid)\n",
    "continuous_X_test = continuous_scaler.transform(continuous_X_test)\n",
    "\n",
    "categorical_X_train = categorical_encoder.transform(categorical_X_train)\n",
    "categorical_X_valid = categorical_encoder.transform(categorical_X_valid)\n",
    "categorical_X_test = categorical_encoder.transform(categorical_X_test)\n",
    "\n",
    "X_train = np.concatenate([continuous_X_train, categorical_X_train], axis=1)\n",
    "X_valid = np.concatenate([continuous_X_valid, categorical_X_valid], axis=1)\n",
    "X_test = np.concatenate([continuous_X_test, categorical_X_test], axis=1)\n",
    "\n",
    "X_train.shape, y_train.shape"
   ]
  },
  {
   "cell_type": "markdown",
   "metadata": {},
   "source": [
    "Uwaga co do typów - PyTorchu wszystko w sieci neuronowej musi być typu `float32`. W szczególności trzeba uważać na konwersje z Numpy'a, który używa domyślnie typu `float64`. Może ci się przydać metoda `.float()`.\n",
    "\n",
    "Uwaga co do kształtów wyjścia - wejścia do `nn.BCELoss` muszą być tego samego kształtu. Może ci się przydać metoda `.squeeze()` lub `.unsqueeze()`."
   ]
  },
  {
   "cell_type": "code",
   "execution_count": 67,
   "metadata": {
    "id": "qfRA3xEoLAs1"
   },
   "outputs": [],
   "source": [
    "X_train = torch.from_numpy(X_train).float()\n",
    "y_train = torch.from_numpy(y_train).float().unsqueeze(-1)\n",
    "\n",
    "X_valid = torch.from_numpy(X_valid).float()\n",
    "y_valid = torch.from_numpy(y_valid).float().unsqueeze(-1)\n",
    "\n",
    "X_test = torch.from_numpy(X_test).float()\n",
    "y_test = torch.from_numpy(y_test).float().unsqueeze(-1)"
   ]
  },
  {
   "cell_type": "markdown",
   "metadata": {},
   "source": [
    "Podobnie jak w laboratorium 2, mamy tu do czynienia z klasyfikacją niezbalansowaną:"
   ]
  },
  {
   "cell_type": "code",
   "execution_count": 68,
   "metadata": {},
   "outputs": [
    {
     "data": {
      "image/png": "[encoded data removed]",
      "text/plain": [
       "<Figure size 640x480 with 1 Axes>"
      ]
     },
     "metadata": {},
     "output_type": "display_data"
    }
   ],
   "source": [
    "import matplotlib.pyplot as plt\n",
    "\n",
    "y_pos_perc = 100 * y_train.sum().item() / len(y_train)\n",
    "y_neg_perc = 100 - y_pos_perc\n",
    "\n",
    "plt.title(\"Class percentages\")\n",
    "plt.bar([\"<50k\", \">=50k\"], [y_neg_perc, y_pos_perc])\n",
    "plt.show()"
   ]
  },
  {
   "cell_type": "markdown",
   "metadata": {},
   "source": [
    "W związku z powyższym będziemy używać odpowiednich metryk, czyli AUROC, precyzji i czułości."
   ]
  },
  {
   "cell_type": "markdown",
   "metadata": {
    "id": "XLexWff-LAs0"
   },
   "source": [
    "#### Zadanie 3 (1.0 punkt)\n",
    "\n",
    "Zaimplementuj regresję logistyczną dla tego zbioru danych, używając PyTorcha. Dane wejściowe zostały dla ciebie przygotowane w komórkach poniżej.\n",
    "\n",
    "Sama sieć składa się z 2 elementów:\n",
    "- warstwa liniowa `nn.Linear`, przekształcająca wektor wejściowy na 1 wyjście - logit\n",
    "- aktywacja sigmoidalna `nn.Sigmoid`, przekształcająca logit na prawdopodobieństwo klasy pozytywnej\n",
    "\n",
    "Użyj binarnej entropii krzyżowej `nn.BCELoss` jako funkcji kosztu. Użyj optymalizatora SGD ze stałą uczącą `1e-3`. Trenuj przez 3000 epok. Pamiętaj, aby przekazać do optymalizatora `torch.optim.SGD` parametry sieci (metoda `.parameters()`). Dopisz logowanie kosztu raz na 100 epok."
   ]
  },
  {
   "cell_type": "code",
   "execution_count": 49,
   "metadata": {
    "colab": {
     "base_uri": "https://localhost:8080/"
    },
    "id": "NbABKz5-LAs2",
    "outputId": "086dc0f3-0184-4072-9fd3-275b60dee2e4",
    "scrolled": true
   },
   "outputs": [
    {
     "name": "stdout",
     "output_type": "stream",
     "text": [
      "Epoch: 0, loss: 0.6926397085189819\n",
      "Epoch: 100, loss: 0.6605801582336426\n",
      "Epoch: 200, loss: 0.6337772607803345\n",
      "Epoch: 300, loss: 0.6112017631530762\n",
      "Epoch: 400, loss: 0.5920286178588867\n",
      "Epoch: 500, loss: 0.5756019949913025\n",
      "Epoch: 600, loss: 0.5614023208618164\n",
      "Epoch: 700, loss: 0.5490189790725708\n",
      "Epoch: 800, loss: 0.5381266474723816\n",
      "Epoch: 900, loss: 0.5284671187400818\n",
      "Epoch: 1000, loss: 0.5198343396186829\n",
      "Epoch: 1100, loss: 0.5120633840560913\n",
      "Epoch: 1200, loss: 0.5050215125083923\n",
      "Epoch: 1300, loss: 0.4986009895801544\n",
      "Epoch: 1400, loss: 0.4927142560482025\n",
      "Epoch: 1500, loss: 0.4872893989086151\n",
      "Epoch: 1600, loss: 0.4822670817375183\n",
      "Epoch: 1700, loss: 0.4775979220867157\n",
      "Epoch: 1800, loss: 0.47324085235595703\n",
      "Epoch: 1900, loss: 0.4691610038280487\n",
      "Epoch: 2000, loss: 0.4653291702270508\n",
      "Epoch: 2100, loss: 0.46172022819519043\n",
      "Epoch: 2200, loss: 0.45831283926963806\n",
      "Epoch: 2300, loss: 0.455088347196579\n",
      "Epoch: 2400, loss: 0.45203080773353577\n",
      "Epoch: 2500, loss: 0.44912609457969666\n",
      "Epoch: 2600, loss: 0.4463618993759155\n",
      "Epoch: 2700, loss: 0.44372740387916565\n",
      "Epoch: 2800, loss: 0.4412129819393158\n",
      "Epoch: 2900, loss: 0.43880999088287354\n",
      "Final loss: 0.43653327226638794\n"
     ]
    }
   ],
   "source": [
    "learning_rate = 1e-3\n",
    "\n",
    "model = nn.Linear(X_train.shape[1], 1)\n",
    "activation = nn.Sigmoid()\n",
    "optimizer = torch.optim.SGD(model.parameters(), lr=learning_rate)\n",
    "loss_fn = nn.BCELoss()\n",
    "\n",
    "EPOCH_COUNT = 3000\n",
    "for epoch in range(EPOCH_COUNT):\n",
    "    y_pred = model(X_train)\n",
    "    y_actv = activation(y_pred)\n",
    "    \n",
    "    loss = loss_fn(y_actv, y_train)\n",
    "    loss.backward()\n",
    "    \n",
    "    optimizer.step()\n",
    "    optimizer.zero_grad()\n",
    "    \n",
    "    if epoch % 100 == 0:\n",
    "        print(f\"Epoch: {epoch}, loss: {loss}\")\n",
    "\n",
    "print(f\"Final loss: {loss}\")"
   ]
  },
  {
   "cell_type": "markdown",
   "metadata": {},
   "source": [
    "Teraz trzeba sprawdzić, jak poszło naszej sieci. W PyTorchu sieć pracuje zawsze w jednym z dwóch trybów: treningowym lub ewaluacyjnym (predykcyjnym). Ten drugi wyłącza niektóre mechanizmy, które są używane tylko podczas treningu, w szczególności regularyzację dropout. Do przełączania służą metody modelu `.train()` i `.eval()`.\n",
    "\n",
    "Dodatkowo podczas liczenia predykcji dobrze jest wyłączyć liczenie gradientów, bo nie będą potrzebne, a oszczędza to czas i pamięć. Używa się do tego menadżera kontekstu `with torch.no_grad():`."
   ]
  },
  {
   "cell_type": "code",
   "execution_count": 50,
   "metadata": {
    "colab": {
     "base_uri": "https://localhost:8080/"
    },
    "id": "zH37zDX4LAs2",
    "outputId": "b1f93309-6f04-4ffc-b0ca-08d0a32120a0",
    "scrolled": true
   },
   "outputs": [
    {
     "name": "stdout",
     "output_type": "stream",
     "text": [
      "AUROC: 85.62%\n"
     ]
    }
   ],
   "source": [
    "from sklearn.metrics import precision_recall_curve, precision_recall_fscore_support, roc_auc_score\n",
    "\n",
    "\n",
    "model.eval()\n",
    "with torch.no_grad():\n",
    "    y_score = activation(model(X_test))\n",
    "\n",
    "auroc = roc_auc_score(y_test, y_score)\n",
    "print(f\"AUROC: {100 * auroc:.2f}%\")"
   ]
  },
  {
   "cell_type": "markdown",
   "metadata": {},
   "source": [
    "Jest to całkiem dobry wynik, a może być jeszcze lepszy. Sprawdźmy dla pewności jeszcze inne metryki: precyzję, recall oraz F1-score. Dodatkowo narysujemy krzywą precision-recall, czyli jak zmieniają się te metryki w zależności od przyjętego progu (threshold) prawdopodobieństwa, powyżej którego przyjmujemy klasę pozytywną. Taką krzywą należy rysować na zbiorze walidacyjnym, bo później chcemy wykorzystać tę informację do doboru progu, a nie chcemy mieć wycieku danych testowych (data leakage).\n",
    "\n",
    "Poniżej zaimplementowano także funkcję `get_optimal_threshold()`, która sprawdza, dla którego progu uzyskujemy maksymalny F1-score, i zwraca indeks oraz wartość optymalnego progu. Przyda ci się ona w dalszej części laboratorium."
   ]
  },
  {
   "cell_type": "code",
   "execution_count": 51,
   "metadata": {},
   "outputs": [],
   "source": [
    "from sklearn.metrics import PrecisionRecallDisplay\n",
    "\n",
    "\n",
    "def get_optimal_threshold(\n",
    "    precisions: np.array, \n",
    "    recalls: np.array, \n",
    "    thresholds: np.array\n",
    ") -> Tuple[int, float]:\n",
    "    \n",
    "    numerator = 2 * precisions * recalls\n",
    "    denominator = precisions + recalls\n",
    "    f1_scores = np.divide(numerator, denominator, out=np.zeros_like(numerator), where=denominator != 0)\n",
    "    \n",
    "    optimal_idx = np.argmax(f1_scores)\n",
    "    optimal_threshold = thresholds[optimal_idx]\n",
    "    \n",
    "    return optimal_idx, optimal_threshold\n",
    "\n",
    "\n",
    "def plot_precision_recall_curve(y_true, y_pred_score) -> None:\n",
    "    precisions, recalls, thresholds = precision_recall_curve(y_true, y_pred_score)\n",
    "    optimal_idx, optimal_threshold = get_optimal_threshold(precisions, recalls, thresholds)\n",
    "\n",
    "    disp = PrecisionRecallDisplay(precisions, recalls)\n",
    "    disp.plot()\n",
    "    plt.title(f\"Precision-recall curve (opt. thresh.: {optimal_threshold:.4f})\")\n",
    "    plt.axvline(recalls[optimal_idx], color=\"green\", linestyle=\"-.\")\n",
    "    plt.axhline(precisions[optimal_idx], color=\"green\", linestyle=\"-.\")\n",
    "    plt.show()\n"
   ]
  },
  {
   "cell_type": "code",
   "execution_count": 52,
   "metadata": {},
   "outputs": [
    {
     "data": {
      "image/png": "[encoded data removed]",
      "text/plain": [
       "<Figure size 640x480 with 1 Axes>"
      ]
     },
     "metadata": {},
     "output_type": "display_data"
    }
   ],
   "source": [
    "model.eval()\n",
    "with torch.no_grad():\n",
    "    y_pred_valid_score = activation(model(X_valid))\n",
    "\n",
    "plot_precision_recall_curve(y_valid, y_pred_valid_score)"
   ]
  },
  {
   "cell_type": "markdown",
   "metadata": {
    "id": "vfQPIUQ_LAs2"
   },
   "source": [
    "Jak widać, chociaż AUROC jest wysokie, to dla optymalnego F1-score recall nie jest zbyt wysoki, a precyzja jest już dość niska. Być może wynik uda się poprawić, używając modelu o większej pojemności - pełnej, głębokiej sieci neuronowej."
   ]
  },
  {
   "cell_type": "markdown",
   "metadata": {},
   "source": [
    "## Sieci neuronowe"
   ]
  },
  {
   "cell_type": "markdown",
   "metadata": {
    "id": "YP298w6Cq7T6"
   },
   "source": [
    "Wszystko zaczęło się od inspirowanych biologią [sztucznych neuronów](https://en.wikipedia.org/wiki/Artificial_neuron), których próbowano użyć do symulacji mózgu. Naukowcy szybko odeszli od tego podejścia (sam problem modelowania okazał się też znacznie trudniejszy, niż sądzono), zamiast tego używając neuronów jako jednostek reprezentującą dowolną funkcję parametryczną $f(x, \\Theta)$. Każdy neuron jest zatem bardzo elastyczny, bo jedyne wymagania to funkcja różniczkowalna, a mamy do tego wektor parametrów $\\Theta$.\n",
    "\n",
    "W praktyce najczęściej można spotkać się z kilkoma rodzinami sieci neuronowych:\n",
    "1. Perceptrony wielowarstwowe (*MultiLayer Perceptron*, MLP) - najbardziej podobne do powyższego opisu, niezbędne do klasyfikacji i regresji\n",
    "2. Konwolucyjne (*Convolutional Neural Networks*, CNNs) - do przetwarzania danych z zależnościami przestrzennymi, np. obrazów czy dźwięku\n",
    "3. Rekurencyjne (*Recurrent Neural Networks*, RNNs) - do przetwarzania danych z zależnościami sekwencyjnymi, np. szeregi czasowe, oraz kiedyś do języka naturalnego\n",
    "4. Transformacyjne (*Transformers*), oparte o mechanizm atencji (*attention*) - do przetwarzania języka naturalnego (NLP), z którego wyparły RNNs, a coraz częściej także do wszelkich innych danych, np. obrazów, dźwięku\n",
    "5. Grafowe (*Graph Neural Networks*, GNNS) - do przetwarzania grafów\n",
    "\n",
    "Na tym laboratorium skupimy się na najprostszej architekturze, czyli MLP. Jest ona powszechnie łączona z wszelkimi innymi architekturami, bo pozwala dokonywać klasyfikacji i regresji. Przykładowo, klasyfikacja obrazów to zwykle CNN + MLP, klasyfikacja tekstów to transformer + MLP, a regresja na grafach to GNN + MLP.\n",
    "\n",
    "Dodatkowo, pomimo prostoty MLP są bardzo potężne - udowodniono, że perceptrony (ich powszechna nazwa) są [uniwersalnym aproksymatorem](https://www.sciencedirect.com/science/article/abs/pii/0893608089900208), będącym w stanie przybliżyć dowolną funkcję z odpowiednio małym błędem, zakładając wystarczającą wielkość warstw sieci. Szczególne ich wersje potrafią nawet [reprezentować drzewa decyzyjne](https://www.youtube.com/watch?v=_okxGdHM5b8).\n",
    "\n",
    "Dla zainteresowanych polecamy [doskonałą książkę \"Dive into Deep Learning\", z implementacjami w PyTorchu](https://d2l.ai/chapter_multilayer-perceptrons/index.html), [klasyczną książkę \"Deep Learning Book\"](https://www.deeplearningbook.org/contents/mlp.html), oraz [ten filmik](https://www.youtube.com/watch?v=BFHrIxKcLjA), jeśli zastanawiałeś/-aś się, czemu używamy deep learning, a nie naprzykład (wide?) learning. (aka. czemu staramy się budować głębokie sieci, a nie płytkie za to szerokie)"
   ]
  },
  {
   "attachments": {
    "1_x-3NGQv0pRIab8xDT-f_Hg.png": {
     "image/png": "[encoded data removed]"
    }
   },
   "cell_type": "markdown",
   "metadata": {
    "id": "S_ZjoGBU5upj"
   },
   "source": [
    "### Sieci MLP\n",
    "\n",
    "Dla przypomnienia, na wejściu mamy punkty ze zbioru treningowego, czyli $d$-wymiarowe wektory. W klasyfikacji chcemy znaleźć granicę decyzyjną, czyli krzywą, która oddzieli od siebie klasy. W wejściowej przestrzeni może być to trudne, bo chmury punktów z poszczególnych klas mogą być ze sobą dość pomieszane. Pamiętajmy też, że regresja logistyczna jest klasyfikatorem liniowym, czyli w danej przestrzeni potrafi oddzielić punkty tylko linią prostą.\n",
    "\n",
    "Sieć MLP składa się z warstw. Każda z nich dokonuje nieliniowego przekształcenia przestrzeni (można o tym myśleć jak o składaniu przestrzeni jakąś prostą/łamaną), tak, aby w finalnej przestrzeni nasze punkty były możliwie liniowo separowalne. Wtedy ostatnia warstwa z sigmoidą będzie potrafiła je rozdzielić od siebie.\n",
    "\n",
    "![1_x-3NGQv0pRIab8xDT-f_Hg.png](attachment:1_x-3NGQv0pRIab8xDT-f_Hg.png)\n",
    "\n",
    "Poszczególne neurony składają się z iloczynu skalarnego wejść z wagami neuronu, oraz nieliniowej funkcji aktywacji. W PyTorchu są to osobne obiekty - `nn.Linear` oraz np. `nn.Sigmoid`. Funkcja aktywacji przyjmuje wynik iloczynu skalarnego i przekształca go, aby sprawdzić, jak mocno reaguje neuron na dane wejście. Musi być nieliniowa z dwóch powodów. Po pierwsze, tylko nieliniowe przekształcenia są na tyle potężne, żeby umożliwić liniową separację danych w ostatniej warstwie. Po drugie, liniowe przekształcenia zwyczajnie nie działają. Aby zrozumieć czemu, trzeba zobaczyć, co matematycznie oznacza sieć MLP.\n",
    "\n",
    "![perceptron](https://www.saedsayad.com/images/Perceptron_bkp_1.png)\n",
    "\n",
    "Zapisane matematycznie MLP to:\n",
    "\n",
    "$\\large\n",
    "h_1 = f_1(x) \\\\\n",
    "h_2 = f_2(h_1) \\\\\n",
    "h_3 = f_3(h_2) \\\\\n",
    "... \\\\\n",
    "h_n = f_n(h_{n-1})\n",
    "$\n",
    "\n",
    "gdzie $x$ to wejście $f_i$ to funkcja aktywacji $i$-tej warstwy, a $h_i$ to wyjście $i$-tej warstwy, nazywane **ukrytą reprezentacją (hidden representation)**, lub *latent representation*. Nazwa bierze się z tego, że w środku sieci wyciągamy cechy i wzorce w danych, które nie są widoczne na pierwszy rzut oka na wejściu.\n",
    "\n",
    "Załóżmy, że uczymy się na danych $x$ o jednym wymiarze (dla uproszczenia wzorów) oraz nie mamy funkcji aktywacji, czyli wykorzystujemy tak naprawdę aktywację liniową $f(x) = x$. Zobaczmy jak będą wyglądać dane przechodząc przez kolejne warstwy:\n",
    "\n",
    "$\\large\n",
    "h_1 = f_1(xw_1) = xw_1 \\\\\n",
    "h_2 = f_2(h_1w_2) = xw_1w_2 \\\\\n",
    "... \\\\\n",
    "h_n = f_n(h_{n-1}w_n) = xw_1w_2...w_n\n",
    "$\n",
    "\n",
    "gdzie $w_i$ to jest parametr $i$-tej warstwy sieci, $x$ to są dane (w naszym przypadku jedna liczba) wejściowa, a $h_i$ to wyjście $i$-tej warstwy.\n",
    "\n",
    "Jak widać, taka sieć o $n$ warstwach jest równoważna sieci o jednej warstwie z parametrem $w = w_1w_2...w_n$. Wynika to z tego, że złożenie funkcji liniowych jest także funkcją liniową - patrz notatki z algebry :)\n",
    "\n",
    "Jeżeli natomiast użyjemy nieliniowej funkcji aktywacji, często oznaczanej jako $\\sigma$, to wszystko będzie działać. Co ważne, ostatnia warstwa, dająca wyjście sieci, ma zwykle inną aktywację od warstw wewnątrz sieci, bo też ma inne zadanie - zwrócić wartość dla klasyfikacji lub regresji. Na wyjściu korzysta się z funkcji liniowej (regresja), sigmoidalnej (klasyfikacja binarna) lub softmax (klasyfikacja wieloklasowa).\n",
    "\n",
    "Wewnątrz sieci używano kiedyś sigmoidy oraz tangensa hiperbolicznego `tanh`, ale okazało się to nieefektywne przy uczeniu głębokich sieci o wielu warstwach. Nowoczesne sieci korzystają zwykle z funkcji ReLU (*rectified linear unit*), która jest zaskakująco prosta: $ReLU(x) = \\max(0, x)$. Okazało się, że bardzo dobrze nadaje się do treningu nawet bardzo głębokich sieci neuronowych. Nowsze funkcje aktywacji są głównie modyfikacjami ReLU.\n",
    "\n",
    "![relu](https://www.nomidl.com/wp-content/uploads/2022/04/image-10.png)"
   ]
  },
  {
   "cell_type": "markdown",
   "metadata": {},
   "source": [
    "### MLP w PyTorchu\n",
    "\n",
    "Warstwę neuronów w MLP nazywa się warstwą gęstą (*dense layer*) lub warstwą w pełni połączoną (*fully-connected layer*), i taki opis oznacza zwykle same neurony oraz funkcję aktywacji. PyTorch, jak już widzieliśmy, definiuje osobno transformację liniową oraz aktywację, a więc jedna warstwa składa się de facto z 2 obiektów, wywoływanych jeden po drugim. Inne frameworki, szczególnie wysokopoziomowe (np. Keras) łączą to często w jeden obiekt.\n",
    "\n",
    "MLP składa się zatem z sekwencji obiektów, które potem wywołuje się jeden po drugim, gdzie wyjście poprzedniego to wejście kolejnego. Ale nie można tutaj używać Pythonowych list! Z perspektywy PyTorcha to wtedy niezależne obiekty i nie zostanie wtedy przekazany między nimi gradient. Trzeba tutaj skorzystać z `nn.Sequential`, aby tworzyć taki pipeline.\n",
    "\n",
    "Rozmiary wejścia i wyjścia dla każdej warstwy trzeba w PyTorchu podawać explicite. Jest to po pierwsze edukacyjne, a po drugie często ułatwia wnioskowanie o działaniu sieci oraz jej debugowanie - mamy jasno podane, czego oczekujemy. Niektóre frameworki (np. Keras) obliczają to automatycznie.\n",
    "\n",
    "Co ważne, ostatnia warstwa zwykle nie ma funkcji aktywacji. Wynika to z tego, że obliczanie wielu funkcji kosztu (np. entropii krzyżowej) na aktywacjach jest często niestabilne numerycznie. Z tego powodu PyTorch oferuje funkcje kosztu zawierające w środku aktywację dla ostatniej warstwy, a ich implementacje są stabilne numerycznie. Przykładowo, `nn.BCELoss` przyjmuje wejście z zaaplikowanymi już aktywacjami, ale może skutkować under/overflow, natomiast `nn.BCEWithLogitsLoss` przyjmuje wejście bez aktywacji, a w środku ma specjalną implementację łączącą binarną entropię krzyżową z aktywacją sigmoidalną. Oczywiście w związku z tym aby dokonać potem predykcji w praktyce, trzeba pamiętać o użyciu funkcji aktywacji. Często korzysta się przy tym z funkcji z modułu `torch.nn.functional`, które są w tym wypadku nieco wygodniejsze od klas wywoływalnych z `torch.nn`.\n",
    "\n",
    "Całe sieci w PyTorchu tworzy się jako klasy dziedziczące po `nn.Module`. Co ważne, obiekty, z których tworzymy sieć, np. `nn.Linear`, także dziedziczą po tej klasie. Pozwala to na bardzo modułową budowę kodu, zgodną z zasadami OOP. W konstruktorze najpierw trzeba zawsze wywołać konstruktor rodzica - `super().__init__()`, a później tworzy się potrzebne obiekty i zapisuje jako atrybuty. Każdy atrybut dziedziczący po `nn.Module` lub `nn.Parameter` jest uważany za taki, który zawiera parametry sieci, a więc przy wywołaniu metody `parameters()` - parametry z tych atrybutów pojawią się w liście wszystkich parametrów. Musimy też zdefiniować metodę `forward()`, która przyjmuje tensor `x` i zwraca wynik. Typowo ta metoda po prostu używa obiektów zdefiniowanych w konstruktorze.\n",
    "\n",
    "\n",
    "**UWAGA: nigdy w normalnych warunkach się nie woła metody `forward` ręcznie**"
   ]
  },
  {
   "cell_type": "markdown",
   "metadata": {
    "id": "J8niDgExAMDO"
   },
   "source": [
    "#### Zadanie 4 (0.5 punktu)\n",
    "\n",
    "Uzupełnij implementację 3-warstwowej sieci MLP. Użyj rozmiarów:\n",
    "* pierwsza warstwa: input_size x 256\n",
    "* druga warstwa: 256 x 128\n",
    "* trzecia warstwa: 128 x 1\n",
    "\n",
    "Użyj funkcji aktywacji ReLU.\n",
    "\n",
    "Przydatne klasy:\n",
    "- `nn.Sequential`\n",
    "- `nn.Linear`\n",
    "- `nn.ReLU`"
   ]
  },
  {
   "cell_type": "code",
   "execution_count": 53,
   "metadata": {},
   "outputs": [],
   "source": [
    "from torch import sigmoid\n",
    "\n",
    "\n",
    "class MLP(nn.Module):\n",
    "    def __init__(self, input_size: int):\n",
    "        super().__init__()\n",
    "        self.layers = nn.Sequential(\n",
    "            nn.Linear(input_size, 256),\n",
    "            nn.ReLU(),\n",
    "            nn.Linear(256, 128),\n",
    "            nn.ReLU(),\n",
    "            nn.Linear(128, 1)\n",
    "        )\n",
    "\n",
    "    def forward(self, x):\n",
    "        return self.layers.forward(x)\n",
    "\n",
    "    def predict_proba(self, x):\n",
    "        return sigmoid(self(x))\n",
    "    \n",
    "    def predict(self, x, threshold: float = 0.5):\n",
    "        y_pred_score = self.predict_proba(x)\n",
    "        return (y_pred_score > threshold).to(torch.int32)\n"
   ]
  },
  {
   "cell_type": "code",
   "execution_count": 54,
   "metadata": {},
   "outputs": [
    {
     "name": "stdout",
     "output_type": "stream",
     "text": [
      "Epoch 0 train loss: 0.6901\n",
      "Epoch 200 train loss: 0.6692\n",
      "Epoch 400 train loss: 0.6518\n",
      "Epoch 600 train loss: 0.6370\n",
      "Epoch 800 train loss: 0.6241\n",
      "Epoch 1000 train loss: 0.6129\n",
      "Epoch 1200 train loss: 0.6029\n",
      "Epoch 1400 train loss: 0.5939\n",
      "Epoch 1600 train loss: 0.5859\n",
      "Epoch 1800 train loss: 0.5787\n",
      "final loss: 0.5721\n"
     ]
    }
   ],
   "source": [
    "learning_rate = 1e-3\n",
    "model = MLP(input_size=X_train.shape[1])\n",
    "optimizer = torch.optim.SGD(model.parameters(), lr=learning_rate)\n",
    "\n",
    "# note that we are using loss function with sigmoid built in\n",
    "loss_fn = torch.nn.BCEWithLogitsLoss()\n",
    "num_epochs = 2000\n",
    "evaluation_steps = 200\n",
    "\n",
    "for i in range(num_epochs):\n",
    "    y_pred = model(X_train)\n",
    "    loss = loss_fn(y_pred, y_train)\n",
    "    loss.backward()\n",
    "\n",
    "    optimizer.step()\n",
    "    optimizer.zero_grad()\n",
    "\n",
    "    if i % evaluation_steps == 0:\n",
    "        print(f\"Epoch {i} train loss: {loss.item():.4f}\")\n",
    "\n",
    "print(f\"final loss: {loss.item():.4f}\")"
   ]
  },
  {
   "cell_type": "code",
   "execution_count": 55,
   "metadata": {
    "colab": {
     "base_uri": "https://localhost:8080/"
    },
    "id": "LP5GSup24dXU",
    "outputId": "05f332c4-5d94-41f6-f85b-17793d3c4b49"
   },
   "outputs": [
    {
     "name": "stdout",
     "output_type": "stream",
     "text": [
      "AUROC: 78.41%\n"
     ]
    },
    {
     "data": {
      "image/png": "[encoded data removed]",
      "text/plain": [
       "<Figure size 640x480 with 1 Axes>"
      ]
     },
     "metadata": {},
     "output_type": "display_data"
    }
   ],
   "source": [
    "model.eval()\n",
    "with torch.no_grad():\n",
    "    # positive class probabilities\n",
    "    y_pred_valid_score = model.predict_proba(X_valid)\n",
    "    y_pred_test_score = model.predict_proba(X_test)\n",
    "\n",
    "auroc = roc_auc_score(y_test, y_pred_test_score)\n",
    "print(f\"AUROC: {100 * auroc:.2f}%\")\n",
    "\n",
    "plot_precision_recall_curve(y_valid, y_pred_valid_score)"
   ]
  },
  {
   "cell_type": "markdown",
   "metadata": {},
   "source": [
    "AUROC jest podobne, a precision i recall spadły - wypadamy wręcz gorzej od regresji liniowej! Skoro dodaliśmy więcej warstw, to może pojemność modelu jest teraz za duża i trzeba by go zregularyzować?\n",
    "\n",
    "Sieci neuronowe bardzo łatwo przeuczają, bo są bardzo elastycznymi i pojemnymi modelami. Dlatego mają wiele różnych rodzajów regularyzacji, których używa się razem. Co ciekawe, udowodniono eksperymentalnie, że zbyt duże sieci z mocną regularyzacją działają lepiej niż mniejsze sieci, odpowiedniego rozmiaru, za to ze słabszą regularyzacją.\n",
    "\n",
    "Pierwszy rodzaj regularyzacji to znana nam już **regularyzacja L2**, czyli penalizacja zbyt dużych wag. W kontekście sieci neuronowych nazywa się też ją czasem *weight decay*. W PyTorchu dodaje się ją jako argument do optymalizatora.\n",
    "\n",
    "Regularyzacja specyficzna dla sieci neuronowych to **dropout**. Polega on na losowym wyłączaniu zadanego procenta neuronów podczas treningu. Pomimo prostoty okazała się niesamowicie skuteczna, szczególnie w treningu bardzo głębokich sieci. Co ważne, jest to mechanizm używany tylko podczas treningu - w trakcie predykcji za pomocą sieci wyłącza się ten mechanizm i dokonuje normalnie predykcji całą siecią. Podejście to można potraktować jak ensemble learning, podobny do lasów losowych - wyłączając losowe części sieci, w każdej iteracji trenujemy nieco inną sieć, co odpowiada uśrednianiu predykcji różnych algorytmów. Typowo stosuje się dość mocny dropout, rzędu 25-50%. W PyTorchu implementuje go warstwa `nn.Dropout`, aplikowana zazwyczaj po funkcji aktywacji.\n",
    "\n",
    "Ostatni, a być może najważniejszy rodzaj regularyzacji to **wczesny stop (early stopping)**. W każdym kroku mocniej dostosowujemy terenową sieć do zbioru treningowego, a więc zbyt długi trening będzie skutkował przeuczeniem. W metodzie wczesnego stopu używamy wydzielonego zbioru walidacyjnego (pojedynczego, metoda holdout), sprawdzając co określoną liczbę epok wynik na tym zbiorze. Jeżeli nie uzyskamy wyniku lepszego od najlepszego dotychczas uzyskanego przez określoną liczbę epok, to przerywamy trening. Okres, przez który czekamy na uzyskanie lepszego wyniku, to cierpliwość (*patience*). Im mniejsze, tym mocniejszy jest ten rodzaj regularyzacji, ale trzeba z tym uważać, bo łatwo jest przesadzić i zbyt szybko przerywać trening. Niektóre implementacje uwzględniają tzw. *grace period*, czyli gwarantowaną minimalną liczbę epok, przez którą będziemy trenować sieć, niezależnie od wybranej cierpliwości.\n",
    "\n",
    "Dodatkowo ryzyko przeuczenia można zmniejszyć, używając mniejszej stałej uczącej."
   ]
  },
  {
   "cell_type": "markdown",
   "metadata": {},
   "source": [
    "#### Zadanie 5 (1.5 punktu)\n",
    "\n",
    "Zaimplementuj funkcję `evaluate_model()`, obliczającą metryki na zbiorze testowym:\n",
    "- wartość funkcji kosztu (loss)\n",
    "- AUROC\n",
    "- optymalny próg\n",
    "- F1-score przy optymalnym progu\n",
    "- precyzję oraz recall dla optymalnego progu\n",
    "\n",
    "Jeżeli podana jest wartość argumentu `threshold`, to użyj jej do zamiany prawdopodobieństw na twarde predykcje. W przeciwnym razie użyj funkcji `get_optimal_threshold` i oblicz optymalną wartość progu.\n",
    "\n",
    "Pamiętaj o przełączeniu modelu w tryb ewaluacji oraz o wyłączeniu obliczania gradientów."
   ]
  },
  {
   "cell_type": "code",
   "execution_count": 100,
   "metadata": {},
   "outputs": [],
   "source": [
    "from typing import Optional\n",
    "\n",
    "from sklearn.metrics import precision_score, recall_score, f1_score\n",
    "from torch import sigmoid\n",
    "\n",
    "\n",
    "def evaluate_model(\n",
    "    model: nn.Module, \n",
    "    X: torch.Tensor, \n",
    "    y: torch.Tensor, \n",
    "    loss_fn: nn.Module,\n",
    "    threshold: Optional[float]= None\n",
    ") -> Dict[str, float]:\n",
    "    \n",
    "    model.eval()\n",
    "    with torch.no_grad():\n",
    "        y_pred = model.predict_proba(X)\n",
    "        loss_val = loss_fn(y_pred, y)\n",
    "        \n",
    "    auroc = roc_auc_score(y, y_pred)\n",
    "    \n",
    "    if not threshold:\n",
    "        prec, recalls, thresholds = precision_recall_curve(y, y_pred)\n",
    "        _, optimal_threshold = get_optimal_threshold(prec, recalls, thresholds)\n",
    "        threshold = optimal_threshold\n",
    "    \n",
    "    y_pred = torch.where(y_pred > threshold, 1, 0)\n",
    "    \n",
    "    fone_score = f1_score(y, y_pred)\n",
    "    prec_score = precision_score(y, y_pred)\n",
    "    recl_score = recall_score(y, y_pred)\n",
    "    \n",
    "    return {\n",
    "        \"loss_value\":      loss_val,\n",
    "        \"auroc\":           auroc,\n",
    "        \"threshold\":       threshold,\n",
    "        \"f1_score\" :       fone_score,\n",
    "        \"precision_score\": prec_score,\n",
    "        \"recall_score\" :   recl_score\n",
    "    }\n",
    "        \n"
   ]
  },
  {
   "cell_type": "markdown",
   "metadata": {},
   "source": [
    "#### Zadanie 6 (0.5 punktu)\n",
    "\n",
    "Zaimplementuj 3-warstwową sieć MLP z dropout (50%). Rozmiary warstw ukrytych mają wynosić 256 i 128."
   ]
  },
  {
   "cell_type": "code",
   "execution_count": 101,
   "metadata": {},
   "outputs": [],
   "source": [
    "class RegularizedMLP(nn.Module):\n",
    "    def __init__(self, input_size: int, dropout_p: float = 0.5):\n",
    "        super().__init__()\n",
    "\n",
    "        self.layers = nn.Sequential(\n",
    "            nn.Linear(input_size, 256),\n",
    "            nn.ReLU(),\n",
    "            nn.Dropout(),\n",
    "            nn.Linear(256, 128),\n",
    "            nn.ReLU(),\n",
    "            nn.Dropout(),\n",
    "            nn.Linear(128, 1))\n",
    "    \n",
    "    def forward(self, x):\n",
    "        return self.layers.forward(x)\n",
    "\n",
    "    def predict_proba(self, x):\n",
    "        return sigmoid(self(x))\n",
    "    \n",
    "    def predict(self, x, threshold: float = 0.5):\n",
    "        y_pred_score = self.predict_proba(x)\n",
    "        return (y_pred_score > threshold).to(torch.int32)\n"
   ]
  },
  {
   "cell_type": "markdown",
   "metadata": {
    "id": "rEk9azaULAsz"
   },
   "source": [
    "Opisaliśmy wcześniej podstawowy optymalizator w sieciach neuronowych - spadek wzdłuż gradientu. Jednak wymaga on użycia całego zbioru danych, aby obliczyć gradient, co jest często niewykonalne przez rozmiar zbioru. Dlatego wymyślono **stochastyczny spadek wzdłuż gradientu (stochastic gradient descent, SGD)**, w którym używamy 1 przykładu naraz, liczymy gradient tylko po nim i aktualizujemy parametry. Jest to oczywiście dość grube przybliżenie gradientu, ale pozwala robić szybko dużo małych kroków. Kompromisem, którego używa się w praktyce, jest **minibatch gradient descent**, czyli używanie batchy np. 32, 64 czy 128 przykładów.\n",
    "\n",
    "Rzadko wspominanym, a ważnym faktem jest także to, że stochastyczność metody optymalizacji jest sama w sobie też [metodą regularyzacji](https://arxiv.org/abs/2101.12176), a więc `batch_size` to także hiperparametr.\n",
    "\n",
    "Obecnie najpopularniejszą odmianą SGD jest [Adam](https://arxiv.org/abs/1412.6980), gdyż uczy on szybko sieć oraz daje bardzo dobre wyniki nawet przy niekoniecznie idealnie dobranych hiperparametrach. W PyTorchu najlepiej korzystać z jego implementacji `AdamW`, która jest nieco lepsza niż implementacja `Adam`. Jest to zasadniczo zawsze wybór domyślny przy treningu współczesnych sieci neuronowych.\n",
    "\n",
    "Na razie użyjemy jednak minibatch SGD."
   ]
  },
  {
   "cell_type": "markdown",
   "metadata": {},
   "source": [
    "Poniżej znajduje się implementacja prostej klasy dziedziczącej po `Dataset` - tak w PyTorchu implementuje się własne zbiory danych. Użycie takich klas umożliwia użycie klas ładujących dane (`DataLoader`), które z kolei pozwalają łatwo ładować batche danych. Trzeba w takiej klasie zaimplementować metody:\n",
    "- `__len__` - zwraca ilość punktów w zbiorze\n",
    "- `__getitem__` - zwraca przykład ze zbioru pod danym indeksem oraz jego klasę\n"
   ]
  },
  {
   "cell_type": "code",
   "execution_count": 102,
   "metadata": {},
   "outputs": [],
   "source": [
    "from torch.utils.data import Dataset\n",
    "\n",
    "\n",
    "class MyDataset(Dataset):\n",
    "    def __init__(self, data, y):\n",
    "        super().__init__()\n",
    "        \n",
    "        self.data = data\n",
    "        self.y = y\n",
    "    \n",
    "    def __len__(self):\n",
    "        return self.data.shape[0]\n",
    "    \n",
    "    def __getitem__(self, idx):\n",
    "        return self.data[idx], self.y[idx]\n"
   ]
  },
  {
   "cell_type": "markdown",
   "metadata": {},
   "source": [
    "#### Zadanie 7 (1.5 punktu)\n",
    "\n",
    "Zaimplementuj pętlę treningowo-walidacyjną dla sieci neuronowej. Wykorzystaj podane wartości hiperparametrów do treningu (stała ucząca, prawdopodobieństwo dropoutu, regularyzacja L2, rozmiar batcha, maksymalna liczba epok). Użyj optymalizatora SGD.\n",
    "\n",
    "Dodatkowo zaimplementuj regularyzację przez early stopping. Sprawdzaj co epokę wynik na zbiorze walidacyjnym. Użyj podanej wartości patience, a jako metryki po prostu wartości funkcji kosztu. Może się tutaj przydać zaimplementowana funkcja `evaluate_model()`.\n",
    "\n",
    "Pamiętaj o tym, aby przechowywać najlepszy dotychczasowy wynik walidacyjny oraz najlepszy dotychczasowy model. Zapamiętaj też optymalny próg do klasyfikacji dla najlepszego modelu."
   ]
  },
  {
   "cell_type": "code",
   "execution_count": 103,
   "metadata": {},
   "outputs": [],
   "source": [
    "from copy import deepcopy\n",
    "\n",
    "from torch.utils.data import DataLoader\n",
    "\n",
    "\n",
    "learning_rate = 1e-3\n",
    "dropout_p = 0.5\n",
    "l2_reg = 1e-4\n",
    "batch_size = 128\n",
    "max_epochs = 300\n",
    "\n",
    "early_stopping_patience = 4"
   ]
  },
  {
   "cell_type": "code",
   "execution_count": 106,
   "metadata": {
    "scrolled": true
   },
   "outputs": [
    {
     "name": "stdout",
     "output_type": "stream",
     "text": [
      "Epoch 0 train loss: 0.6664, eval loss 0.8430095911026001\n",
      "Epoch 1 train loss: 0.6451, eval loss 0.8363016247749329\n",
      "Epoch 2 train loss: 0.6286, eval loss 0.8300416469573975\n",
      "Epoch 3 train loss: 0.6160, eval loss 0.8241573572158813\n",
      "Epoch 4 train loss: 0.6064, eval loss 0.8185811042785645\n",
      "Epoch 5 train loss: 0.5923, eval loss 0.8133134841918945\n",
      "Epoch 6 train loss: 0.5779, eval loss 0.8083512783050537\n",
      "Epoch 7 train loss: 0.5750, eval loss 0.8036516308784485\n",
      "Epoch 8 train loss: 0.5631, eval loss 0.7992073893547058\n",
      "Epoch 9 train loss: 0.5521, eval loss 0.7950726747512817\n",
      "Epoch 10 train loss: 0.5592, eval loss 0.7911636829376221\n",
      "Epoch 11 train loss: 0.5405, eval loss 0.7875020503997803\n",
      "Epoch 12 train loss: 0.5462, eval loss 0.7840498089790344\n",
      "Epoch 13 train loss: 0.5473, eval loss 0.7808272242546082\n",
      "Epoch 14 train loss: 0.5382, eval loss 0.777807891368866\n",
      "Epoch 15 train loss: 0.5322, eval loss 0.774970293045044\n",
      "Epoch 16 train loss: 0.5280, eval loss 0.7723588347434998\n",
      "Epoch 17 train loss: 0.5167, eval loss 0.7699132561683655\n",
      "Epoch 18 train loss: 0.5215, eval loss 0.7676310539245605\n",
      "Epoch 19 train loss: 0.5161, eval loss 0.7655102014541626\n",
      "Epoch 20 train loss: 0.5131, eval loss 0.7634517550468445\n",
      "Epoch 21 train loss: 0.5133, eval loss 0.7615862488746643\n",
      "Epoch 22 train loss: 0.5078, eval loss 0.7597585320472717\n",
      "Epoch 23 train loss: 0.5167, eval loss 0.758036732673645\n",
      "Epoch 24 train loss: 0.4991, eval loss 0.7564067244529724\n",
      "Epoch 25 train loss: 0.4977, eval loss 0.75478196144104\n",
      "Epoch 26 train loss: 0.4999, eval loss 0.7532455325126648\n",
      "Epoch 27 train loss: 0.4821, eval loss 0.7517904043197632\n",
      "Epoch 28 train loss: 0.4924, eval loss 0.7504473328590393\n",
      "Epoch 29 train loss: 0.4936, eval loss 0.7490835785865784\n",
      "Epoch 30 train loss: 0.4797, eval loss 0.7478078603744507\n",
      "Epoch 31 train loss: 0.4924, eval loss 0.7465392351150513\n",
      "Epoch 32 train loss: 0.4838, eval loss 0.7453116774559021\n",
      "Epoch 33 train loss: 0.4737, eval loss 0.7441553473472595\n",
      "Epoch 34 train loss: 0.4678, eval loss 0.7429923415184021\n",
      "Epoch 35 train loss: 0.4689, eval loss 0.7418114542961121\n",
      "Epoch 36 train loss: 0.4548, eval loss 0.7406888604164124\n",
      "Epoch 37 train loss: 0.4624, eval loss 0.7395811676979065\n",
      "Epoch 38 train loss: 0.4616, eval loss 0.7384766340255737\n",
      "Epoch 39 train loss: 0.4683, eval loss 0.7374237775802612\n",
      "Epoch 40 train loss: 0.4762, eval loss 0.73637855052948\n",
      "Epoch 41 train loss: 0.4667, eval loss 0.7353723645210266\n",
      "Epoch 42 train loss: 0.4587, eval loss 0.7344295978546143\n",
      "Epoch 43 train loss: 0.4441, eval loss 0.7334471940994263\n",
      "Epoch 44 train loss: 0.4506, eval loss 0.7324729561805725\n",
      "Epoch 45 train loss: 0.4363, eval loss 0.7315093874931335\n",
      "Epoch 46 train loss: 0.4525, eval loss 0.7306233048439026\n",
      "Epoch 47 train loss: 0.4494, eval loss 0.729708731174469\n",
      "Epoch 48 train loss: 0.4337, eval loss 0.7288320064544678\n",
      "Epoch 49 train loss: 0.4452, eval loss 0.7279955148696899\n",
      "Epoch 50 train loss: 0.4429, eval loss 0.7271229028701782\n",
      "Epoch 51 train loss: 0.4264, eval loss 0.7262958884239197\n",
      "Epoch 52 train loss: 0.4195, eval loss 0.7255242466926575\n",
      "Epoch 53 train loss: 0.4283, eval loss 0.7247821092605591\n",
      "Epoch 54 train loss: 0.4477, eval loss 0.7239818572998047\n",
      "Epoch 55 train loss: 0.4159, eval loss 0.7232826948165894\n",
      "Epoch 56 train loss: 0.4191, eval loss 0.7225700616836548\n",
      "Epoch 57 train loss: 0.4136, eval loss 0.7219073176383972\n",
      "Epoch 58 train loss: 0.4178, eval loss 0.7212589979171753\n",
      "Epoch 59 train loss: 0.4280, eval loss 0.7205700278282166\n",
      "Epoch 60 train loss: 0.4114, eval loss 0.7199196815490723\n",
      "Epoch 61 train loss: 0.4040, eval loss 0.7192965149879456\n",
      "Epoch 62 train loss: 0.4212, eval loss 0.7187539935112\n",
      "Epoch 63 train loss: 0.4063, eval loss 0.7181345224380493\n",
      "Epoch 64 train loss: 0.4111, eval loss 0.7175521850585938\n",
      "Epoch 65 train loss: 0.3943, eval loss 0.7170416712760925\n",
      "Epoch 66 train loss: 0.3930, eval loss 0.716530442237854\n",
      "Epoch 67 train loss: 0.4173, eval loss 0.7159438133239746\n",
      "Epoch 68 train loss: 0.4118, eval loss 0.7154147624969482\n",
      "Epoch 69 train loss: 0.4082, eval loss 0.7149479985237122\n",
      "Epoch 70 train loss: 0.4152, eval loss 0.7144893407821655\n",
      "Epoch 71 train loss: 0.4139, eval loss 0.7139887809753418\n",
      "Epoch 72 train loss: 0.4154, eval loss 0.7134765386581421\n",
      "Epoch 73 train loss: 0.4202, eval loss 0.7130327224731445\n",
      "Epoch 74 train loss: 0.3980, eval loss 0.7125608921051025\n",
      "Epoch 75 train loss: 0.3922, eval loss 0.7121083736419678\n",
      "Epoch 76 train loss: 0.4141, eval loss 0.7117202877998352\n",
      "Epoch 77 train loss: 0.4089, eval loss 0.7113308906555176\n",
      "Epoch 78 train loss: 0.3980, eval loss 0.7109361886978149\n",
      "Epoch 79 train loss: 0.4236, eval loss 0.7105993628501892\n",
      "Epoch 80 train loss: 0.4228, eval loss 0.7102043032646179\n",
      "Epoch 81 train loss: 0.4007, eval loss 0.7099151611328125\n",
      "Epoch 82 train loss: 0.3760, eval loss 0.7096084356307983\n",
      "Epoch 83 train loss: 0.3941, eval loss 0.7092633843421936\n",
      "Epoch 84 train loss: 0.3746, eval loss 0.7089128494262695\n",
      "Epoch 85 train loss: 0.4063, eval loss 0.70856773853302\n",
      "Epoch 86 train loss: 0.3926, eval loss 0.7083178162574768\n",
      "Epoch 87 train loss: 0.4086, eval loss 0.7080289721488953\n",
      "Epoch 88 train loss: 0.4102, eval loss 0.7076954245567322\n",
      "Epoch 89 train loss: 0.3801, eval loss 0.7074166536331177\n",
      "Epoch 90 train loss: 0.3862, eval loss 0.7070990204811096\n",
      "Epoch 91 train loss: 0.3604, eval loss 0.7069233655929565\n",
      "Epoch 92 train loss: 0.4088, eval loss 0.7066918611526489\n",
      "Epoch 93 train loss: 0.3942, eval loss 0.7064483761787415\n",
      "Epoch 94 train loss: 0.3776, eval loss 0.7062886357307434\n",
      "Epoch 95 train loss: 0.3858, eval loss 0.7060747742652893\n",
      "Epoch 96 train loss: 0.3926, eval loss 0.7057560682296753\n",
      "Epoch 97 train loss: 0.3875, eval loss 0.7055131793022156\n",
      "Epoch 98 train loss: 0.4145, eval loss 0.7053929567337036\n",
      "Epoch 99 train loss: 0.3934, eval loss 0.705118715763092\n",
      "Epoch 100 train loss: 0.3934, eval loss 0.7049356698989868\n",
      "Epoch 101 train loss: 0.3744, eval loss 0.7047242522239685\n",
      "Epoch 102 train loss: 0.4072, eval loss 0.704456090927124\n",
      "Epoch 103 train loss: 0.4193, eval loss 0.7042807936668396\n",
      "Epoch 104 train loss: 0.4082, eval loss 0.7041802406311035\n",
      "Epoch 105 train loss: 0.3942, eval loss 0.703960120677948\n",
      "Epoch 106 train loss: 0.4184, eval loss 0.7038029432296753\n",
      "Epoch 107 train loss: 0.3973, eval loss 0.7037034630775452\n",
      "Epoch 108 train loss: 0.3935, eval loss 0.7035123705863953\n",
      "Epoch 109 train loss: 0.3661, eval loss 0.703341007232666\n",
      "Epoch 110 train loss: 0.3919, eval loss 0.7031996250152588\n",
      "Epoch 111 train loss: 0.4158, eval loss 0.7029849290847778\n",
      "Epoch 112 train loss: 0.4045, eval loss 0.702928900718689\n",
      "Epoch 113 train loss: 0.4038, eval loss 0.7027764916419983\n",
      "Epoch 114 train loss: 0.4125, eval loss 0.7026638984680176\n",
      "Epoch 115 train loss: 0.3472, eval loss 0.7026006579399109\n",
      "Epoch 116 train loss: 0.4182, eval loss 0.7024440169334412\n",
      "Epoch 117 train loss: 0.3987, eval loss 0.7023249864578247\n",
      "Epoch 118 train loss: 0.4028, eval loss 0.7021645903587341\n",
      "Epoch 119 train loss: 0.3708, eval loss 0.7020926475524902\n",
      "Epoch 120 train loss: 0.3597, eval loss 0.7019429802894592\n",
      "Epoch 121 train loss: 0.4124, eval loss 0.7018632292747498\n",
      "Epoch 122 train loss: 0.3747, eval loss 0.7017174959182739\n",
      "Epoch 123 train loss: 0.3907, eval loss 0.7016121745109558\n",
      "Epoch 124 train loss: 0.3588, eval loss 0.7015202641487122\n",
      "Epoch 125 train loss: 0.4163, eval loss 0.7013230323791504\n",
      "Epoch 126 train loss: 0.3726, eval loss 0.7011871337890625\n",
      "Epoch 127 train loss: 0.3857, eval loss 0.7010873556137085\n",
      "Epoch 128 train loss: 0.4036, eval loss 0.7009670734405518\n",
      "Epoch 129 train loss: 0.3897, eval loss 0.7009603977203369\n",
      "Epoch 130 train loss: 0.4041, eval loss 0.7008621096611023\n",
      "Epoch 131 train loss: 0.3880, eval loss 0.7007263898849487\n",
      "Epoch 132 train loss: 0.4021, eval loss 0.7006304264068604\n",
      "Epoch 133 train loss: 0.4000, eval loss 0.7006062865257263\n",
      "Epoch 134 train loss: 0.3840, eval loss 0.7004667520523071\n",
      "Epoch 135 train loss: 0.3557, eval loss 0.7003464698791504\n",
      "Epoch 136 train loss: 0.3687, eval loss 0.700261116027832\n",
      "Epoch 137 train loss: 0.3874, eval loss 0.7001045942306519\n",
      "Epoch 138 train loss: 0.3630, eval loss 0.700111448764801\n",
      "Epoch 139 train loss: 0.3522, eval loss 0.7001000642776489\n",
      "Epoch 140 train loss: 0.3736, eval loss 0.7000072598457336\n",
      "Epoch 141 train loss: 0.3928, eval loss 0.6999748945236206\n"
     ]
    },
    {
     "name": "stdout",
     "output_type": "stream",
     "text": [
      "Epoch 142 train loss: 0.3682, eval loss 0.6998676657676697\n",
      "Epoch 143 train loss: 0.3580, eval loss 0.6997852325439453\n",
      "Epoch 144 train loss: 0.3877, eval loss 0.6997091770172119\n",
      "Epoch 145 train loss: 0.4087, eval loss 0.6996013522148132\n",
      "Epoch 146 train loss: 0.3653, eval loss 0.6994835734367371\n",
      "Epoch 147 train loss: 0.3786, eval loss 0.6993005275726318\n",
      "Epoch 148 train loss: 0.4167, eval loss 0.6992953419685364\n",
      "Epoch 149 train loss: 0.3646, eval loss 0.6991837024688721\n",
      "Epoch 150 train loss: 0.4079, eval loss 0.6991236805915833\n",
      "Epoch 151 train loss: 0.4006, eval loss 0.6990402936935425\n",
      "Epoch 152 train loss: 0.3812, eval loss 0.6990559697151184\n",
      "Epoch 153 train loss: 0.3746, eval loss 0.6989991664886475\n",
      "Epoch 154 train loss: 0.3886, eval loss 0.6989246606826782\n",
      "Epoch 155 train loss: 0.3816, eval loss 0.6988570094108582\n",
      "Epoch 156 train loss: 0.3810, eval loss 0.6988633871078491\n",
      "Epoch 157 train loss: 0.3913, eval loss 0.6988366842269897\n",
      "Epoch 158 train loss: 0.3776, eval loss 0.6987928152084351\n",
      "Epoch 159 train loss: 0.3736, eval loss 0.6986904144287109\n",
      "Epoch 160 train loss: 0.3936, eval loss 0.698610782623291\n",
      "Epoch 161 train loss: 0.3976, eval loss 0.6984916925430298\n",
      "Epoch 162 train loss: 0.3390, eval loss 0.6984545588493347\n",
      "Epoch 163 train loss: 0.3942, eval loss 0.6983665823936462\n",
      "Epoch 164 train loss: 0.3979, eval loss 0.6982423067092896\n",
      "Epoch 165 train loss: 0.3616, eval loss 0.6982077956199646\n",
      "Epoch 166 train loss: 0.3953, eval loss 0.6981385946273804\n",
      "Epoch 167 train loss: 0.3709, eval loss 0.698127031326294\n",
      "Epoch 168 train loss: 0.3458, eval loss 0.6980510950088501\n",
      "Epoch 169 train loss: 0.3918, eval loss 0.697999894618988\n",
      "Epoch 170 train loss: 0.4243, eval loss 0.6979094743728638\n",
      "Epoch 171 train loss: 0.3672, eval loss 0.6978267431259155\n",
      "Epoch 172 train loss: 0.3785, eval loss 0.6977945566177368\n",
      "Epoch 173 train loss: 0.3669, eval loss 0.697738766670227\n",
      "Epoch 174 train loss: 0.3843, eval loss 0.6976367831230164\n",
      "Epoch 175 train loss: 0.3810, eval loss 0.697633683681488\n",
      "Epoch 176 train loss: 0.3940, eval loss 0.6975880861282349\n",
      "Epoch 177 train loss: 0.3754, eval loss 0.6975390911102295\n",
      "Epoch 178 train loss: 0.3566, eval loss 0.6974290013313293\n",
      "Epoch 179 train loss: 0.3601, eval loss 0.6973934173583984\n",
      "Epoch 180 train loss: 0.3854, eval loss 0.6973598003387451\n",
      "Epoch 181 train loss: 0.4023, eval loss 0.6972500085830688\n",
      "Epoch 182 train loss: 0.3828, eval loss 0.6972103118896484\n",
      "Epoch 183 train loss: 0.3920, eval loss 0.6971498131752014\n",
      "Epoch 184 train loss: 0.3538, eval loss 0.6970923542976379\n",
      "Epoch 185 train loss: 0.3812, eval loss 0.6970472931861877\n",
      "Epoch 186 train loss: 0.3961, eval loss 0.6970623731613159\n",
      "Epoch 187 train loss: 0.3612, eval loss 0.6970335841178894\n",
      "Epoch 188 train loss: 0.3834, eval loss 0.6970042586326599\n",
      "Epoch 189 train loss: 0.3662, eval loss 0.6968984603881836\n",
      "Epoch 190 train loss: 0.3783, eval loss 0.6968400478363037\n",
      "Epoch 191 train loss: 0.3527, eval loss 0.6967223286628723\n",
      "Epoch 192 train loss: 0.3599, eval loss 0.6967016458511353\n",
      "Epoch 193 train loss: 0.3605, eval loss 0.6966622471809387\n",
      "Epoch 194 train loss: 0.3982, eval loss 0.696692943572998\n",
      "Epoch 195 train loss: 0.3265, eval loss 0.6966121196746826\n",
      "Epoch 196 train loss: 0.3686, eval loss 0.6965609788894653\n",
      "Epoch 197 train loss: 0.4036, eval loss 0.6965155601501465\n",
      "Epoch 198 train loss: 0.3810, eval loss 0.6964744329452515\n",
      "Epoch 199 train loss: 0.4402, eval loss 0.6964219808578491\n",
      "Epoch 200 train loss: 0.3887, eval loss 0.6963625550270081\n",
      "Epoch 201 train loss: 0.3910, eval loss 0.6963341236114502\n",
      "Epoch 202 train loss: 0.3587, eval loss 0.6962937116622925\n",
      "Epoch 203 train loss: 0.3649, eval loss 0.69627445936203\n",
      "Epoch 204 train loss: 0.4298, eval loss 0.6962931752204895\n",
      "Epoch 205 train loss: 0.3697, eval loss 0.6962236762046814\n",
      "Epoch 206 train loss: 0.3909, eval loss 0.6961520314216614\n",
      "Epoch 207 train loss: 0.3537, eval loss 0.6960680484771729\n",
      "Epoch 208 train loss: 0.3493, eval loss 0.6960370540618896\n",
      "Epoch 209 train loss: 0.3671, eval loss 0.6960361003875732\n",
      "Epoch 210 train loss: 0.3918, eval loss 0.695993185043335\n",
      "Epoch 211 train loss: 0.3718, eval loss 0.6959584355354309\n",
      "Epoch 212 train loss: 0.3630, eval loss 0.6958250403404236\n",
      "Epoch 213 train loss: 0.3689, eval loss 0.6958219408988953\n",
      "Epoch 214 train loss: 0.3808, eval loss 0.6957481503486633\n",
      "Epoch 215 train loss: 0.3807, eval loss 0.6957253217697144\n",
      "Epoch 216 train loss: 0.3725, eval loss 0.6956748962402344\n",
      "Epoch 217 train loss: 0.3585, eval loss 0.6956555843353271\n",
      "Epoch 218 train loss: 0.3490, eval loss 0.6956233382225037\n",
      "Epoch 219 train loss: 0.3991, eval loss 0.6955792307853699\n",
      "Epoch 220 train loss: 0.3988, eval loss 0.6955841183662415\n",
      "Epoch 221 train loss: 0.3732, eval loss 0.6954889893531799\n",
      "Epoch 222 train loss: 0.3963, eval loss 0.6955207586288452\n",
      "Epoch 223 train loss: 0.3429, eval loss 0.6954118609428406\n",
      "Epoch 224 train loss: 0.4035, eval loss 0.6953955292701721\n",
      "Epoch 225 train loss: 0.3675, eval loss 0.6953352093696594\n",
      "Epoch 226 train loss: 0.4074, eval loss 0.6953533887863159\n",
      "Epoch 227 train loss: 0.3637, eval loss 0.6952513456344604\n",
      "Epoch 228 train loss: 0.3559, eval loss 0.695203423500061\n",
      "Epoch 229 train loss: 0.3513, eval loss 0.6951228380203247\n",
      "Epoch 230 train loss: 0.3649, eval loss 0.6950957179069519\n",
      "Epoch 231 train loss: 0.3634, eval loss 0.6951276659965515\n",
      "Epoch 232 train loss: 0.3500, eval loss 0.695067822933197\n",
      "Epoch 233 train loss: 0.3906, eval loss 0.6950348019599915\n",
      "Epoch 234 train loss: 0.3236, eval loss 0.6950360536575317\n",
      "Epoch 235 train loss: 0.3658, eval loss 0.6950325965881348\n",
      "Epoch 236 train loss: 0.4150, eval loss 0.6949241161346436\n",
      "Epoch 237 train loss: 0.3611, eval loss 0.6949354410171509\n",
      "Epoch 238 train loss: 0.3188, eval loss 0.6948476433753967\n",
      "Epoch 239 train loss: 0.3613, eval loss 0.6948142051696777\n",
      "Epoch 240 train loss: 0.3617, eval loss 0.694857656955719\n",
      "Epoch 241 train loss: 0.3829, eval loss 0.6948575973510742\n",
      "Epoch 242 train loss: 0.3518, eval loss 0.6947004795074463\n",
      "Epoch 243 train loss: 0.3677, eval loss 0.6946840882301331\n",
      "Epoch 244 train loss: 0.3693, eval loss 0.6946339011192322\n",
      "Epoch 245 train loss: 0.3328, eval loss 0.6946135759353638\n",
      "Epoch 246 train loss: 0.3746, eval loss 0.6946108341217041\n",
      "Epoch 247 train loss: 0.3826, eval loss 0.6945658326148987\n",
      "Epoch 248 train loss: 0.3670, eval loss 0.694507360458374\n",
      "Epoch 249 train loss: 0.3805, eval loss 0.6944247484207153\n",
      "Epoch 250 train loss: 0.3695, eval loss 0.6944407224655151\n",
      "Epoch 251 train loss: 0.3815, eval loss 0.6944423317909241\n",
      "Epoch 252 train loss: 0.3895, eval loss 0.6943967938423157\n",
      "Epoch 253 train loss: 0.3965, eval loss 0.6943463683128357\n",
      "Epoch 254 train loss: 0.3771, eval loss 0.694370448589325\n",
      "Epoch 255 train loss: 0.3860, eval loss 0.6944142580032349\n",
      "Epoch 256 train loss: 0.3430, eval loss 0.6943546533584595\n",
      "Epoch 257 train loss: 0.4035, eval loss 0.6942117214202881\n",
      "Epoch 258 train loss: 0.3985, eval loss 0.6942322850227356\n",
      "Epoch 259 train loss: 0.3708, eval loss 0.6941927075386047\n",
      "Epoch 260 train loss: 0.3813, eval loss 0.6941338777542114\n",
      "Epoch 261 train loss: 0.3629, eval loss 0.6940730810165405\n",
      "Epoch 262 train loss: 0.3550, eval loss 0.6940261721611023\n",
      "Epoch 263 train loss: 0.3884, eval loss 0.69404137134552\n",
      "Epoch 264 train loss: 0.3785, eval loss 0.6939380168914795\n",
      "Epoch 265 train loss: 0.3728, eval loss 0.6939110159873962\n",
      "Epoch 266 train loss: 0.3823, eval loss 0.6938844323158264\n",
      "Epoch 267 train loss: 0.3888, eval loss 0.6938605904579163\n",
      "Epoch 268 train loss: 0.3733, eval loss 0.6937850713729858\n",
      "Epoch 269 train loss: 0.3595, eval loss 0.6937588453292847\n",
      "Epoch 270 train loss: 0.3646, eval loss 0.6938212513923645\n",
      "Epoch 271 train loss: 0.3568, eval loss 0.6937004923820496\n",
      "Epoch 272 train loss: 0.3846, eval loss 0.6936976313591003\n",
      "Epoch 273 train loss: 0.3811, eval loss 0.6937024593353271\n",
      "Epoch 274 train loss: 0.3710, eval loss 0.6936950087547302\n",
      "Epoch 275 train loss: 0.3610, eval loss 0.6936532258987427\n",
      "Epoch 276 train loss: 0.3756, eval loss 0.6936572194099426\n",
      "Epoch 277 train loss: 0.3865, eval loss 0.6936246752738953\n",
      "Epoch 278 train loss: 0.3667, eval loss 0.6935233473777771\n",
      "Epoch 279 train loss: 0.3822, eval loss 0.6934682726860046\n",
      "Epoch 280 train loss: 0.4051, eval loss 0.693397045135498\n",
      "Epoch 281 train loss: 0.3844, eval loss 0.6933204531669617\n"
     ]
    },
    {
     "name": "stdout",
     "output_type": "stream",
     "text": [
      "Epoch 282 train loss: 0.3834, eval loss 0.693362295627594\n",
      "Epoch 283 train loss: 0.3544, eval loss 0.693397581577301\n",
      "Epoch 284 train loss: 0.3883, eval loss 0.693411111831665\n",
      "Epoch 285 train loss: 0.3810, eval loss 0.6934300065040588\n",
      "Epoch 286 train loss: 0.3732, eval loss 0.6933724880218506\n",
      "Epoch 287 train loss: 0.3599, eval loss 0.6933133602142334\n",
      "Epoch 288 train loss: 0.3985, eval loss 0.6933031678199768\n",
      "Epoch 289 train loss: 0.3924, eval loss 0.6932445764541626\n",
      "Epoch 290 train loss: 0.3865, eval loss 0.6932564377784729\n",
      "Epoch 291 train loss: 0.3673, eval loss 0.6933049559593201\n",
      "Epoch 292 train loss: 0.4323, eval loss 0.6932733654975891\n",
      "Epoch 293 train loss: 0.3761, eval loss 0.6932148337364197\n",
      "Epoch 294 train loss: 0.3659, eval loss 0.693230926990509\n",
      "Epoch 295 train loss: 0.3798, eval loss 0.6932123303413391\n",
      "Epoch 296 train loss: 0.3851, eval loss 0.6931174993515015\n",
      "Epoch 297 train loss: 0.3736, eval loss 0.6931164264678955\n",
      "Epoch 298 train loss: 0.3714, eval loss 0.6930908560752869\n",
      "Epoch 299 train loss: 0.3378, eval loss 0.6930809617042542\n"
     ]
    }
   ],
   "source": [
    "model = RegularizedMLP(\n",
    "    input_size=X_train.shape[1], \n",
    "    dropout_p=dropout_p\n",
    ")\n",
    "optimizer = torch.optim.SGD(\n",
    "    model.parameters(), \n",
    "    lr=learning_rate, \n",
    "    weight_decay=l2_reg\n",
    ")\n",
    "loss_fn = torch.nn.BCEWithLogitsLoss()\n",
    "\n",
    "train_dataset = MyDataset(X_train, y_train)\n",
    "train_dataloader = DataLoader(train_dataset, batch_size=batch_size)\n",
    "\n",
    "steps_without_improvement = 0\n",
    "\n",
    "best_val_loss = np.inf\n",
    "best_model = None\n",
    "best_threshold = None\n",
    "\n",
    "for epoch_num in range(max_epochs):\n",
    "    model.train()\n",
    "    \n",
    "    # note that we are using DataLoader to get batches\n",
    "    for X_batch, y_batch in train_dataloader:\n",
    "        y_pred = model(X_batch)\n",
    "        \n",
    "        loss = loss_fn(y_pred, y_batch)\n",
    "        loss.backward()\n",
    "        \n",
    "        optimizer.step()\n",
    "        optimizer.zero_grad()\n",
    "    \n",
    "    eval_model = evaluate_model(model, X_valid, y_valid, loss_fn)\n",
    "    \n",
    "    if eval_model[\"loss_value\"] < best_val_loss:\n",
    "        best_model                = deepcopy(model)\n",
    "        best_loss                 = eval_model[\"loss_value\"]\n",
    "        best_threshold            = eval_model[\"threshold\"]\n",
    "        steps_without_improvement = 0\n",
    "    else:\n",
    "        steps_without_improvement += 1\n",
    "        if steps_without_improvement >= early_stopping_patience:\n",
    "            print(\"Early stop\")\n",
    "            break\n",
    "    \n",
    "    print(f\"Epoch {epoch_num} train loss: {loss.item():.4f}, eval loss {eval_model['loss_value']}\")\n"
   ]
  },
  {
   "cell_type": "code",
   "execution_count": 108,
   "metadata": {},
   "outputs": [
    {
     "name": "stdout",
     "output_type": "stream",
     "text": [
      "AUROC: 90.19%\n",
      "F1: 68.67%\n",
      "Precision: 63.28%\n",
      "Recall: 75.06%\n"
     ]
    }
   ],
   "source": [
    "test_metrics = evaluate_model(best_model, X_test, y_test, loss_fn, best_threshold)\n",
    "\n",
    "print(f\"AUROC: {100 * test_metrics['auroc']:.2f}%\")\n",
    "print(f\"F1: {100 * test_metrics['f1_score']:.2f}%\")\n",
    "print(f\"Precision: {100 * test_metrics['precision_score']:.2f}%\")\n",
    "print(f\"Recall: {100 * test_metrics['recall_score']:.2f}%\")"
   ]
  },
  {
   "cell_type": "markdown",
   "metadata": {},
   "source": [
    "Wyniki wyglądają już dużo lepiej.\n",
    "\n",
    "Na koniec laboratorium dołożymy do naszego modelu jeszcze 3 powszechnie używane techniki, które są bardzo proste, a pozwalają często ulepszyć wynik modelu.\n",
    "\n",
    "Pierwszą z nich są **warstwy normalizacji (normalization layers)**. Powstały one początkowo z założeniem, że przez przekształcenia przestrzeni dokonywane przez sieć zmienia się rozkład prawdopodobieństw pomiędzy warstwami, czyli tzw. *internal covariate shift*. Później okazało się, że zastosowanie takiej normalizacji wygładza powierzchnię funkcji kosztu, co ułatwia i przyspiesza optymalizację. Najpowszechniej używaną normalizacją jest **batch normalization (batch norm)**.\n",
    "\n",
    "Drugim ulepszeniem jest dodanie **wag klas (class weights)**. Mamy do czynienia z problemem klasyfikacji niezbalansowanej, więc klasa mniejszościowa, ważniejsza dla nas, powinna dostać większą wagę. Implementuje się to trywialnie prosto - po prostu mnożymy wartość funkcji kosztu dla danego przykładu przez wagę dla prawdziwej klasy tego przykładu. Praktycznie każdy klasyfikator operujący na jakiejś ważonej funkcji może działać w ten sposób, nie tylko sieci neuronowe.\n",
    "\n",
    "Ostatnim ulepszeniem jest zamiana SGD na optymalizator Adam, a konkretnie na optymalizator `AdamW`. Jest to przykład **optymalizatora adaptacyjnego (adaptive optimizer)**, który potrafi zaadaptować stałą uczącą dla każdego parametru z osobna w trakcie treningu. Wykorzystuje do tego gradienty - w uproszczeniu, im większa wariancja gradientu, tym mniejsze kroki w tym kierunku robimy."
   ]
  },
  {
   "cell_type": "markdown",
   "metadata": {},
   "source": [
    "#### Zadanie 8 (0.5 punktu)\n",
    "\n",
    "Zaimplementuj model `NormalizingMLP`, o takiej samej strukturze jak `RegularizedMLP`, ale dodatkowo z warstwami `BatchNorm1d` pomiędzy warstwami `Linear` oraz `ReLU`.\n",
    "\n",
    "Za pomocą funkcji `compute_class_weight()` oblicz wagi dla poszczególnych klas. Użyj opcji `\"balanced\"`. Przekaż do funkcji kosztu wagę klasy pozytywnej (pamiętaj, aby zamienić ją na tensor).\n",
    "\n",
    "Zamień używany optymalizator na `AdamW`.\n",
    "\n",
    "Na koniec skopiuj resztę kodu do treningu z poprzedniego zadania, wytrenuj sieć i oblicz wyniki na zbiorze testowym."
   ]
  },
  {
   "cell_type": "code",
   "execution_count": 116,
   "metadata": {},
   "outputs": [],
   "source": [
    "class NormalizingMLP(nn.Module):\n",
    "    def __init__(self, input_size: int, dropout_p: float = 0.5):\n",
    "        super().__init__()\n",
    "\n",
    "        self.mlp = nn.Sequential(\n",
    "            nn.Linear(input_size, 256),\n",
    "            nn.BatchNorm1d(256),\n",
    "            nn.ReLU(),\n",
    "            nn.Dropout(dropout_p),\n",
    "            nn.Linear(256, 128),\n",
    "            nn.BatchNorm1d(128),\n",
    "            nn.ReLU(),\n",
    "            nn.Dropout(dropout_p),\n",
    "            nn.Linear(128, 1))\n",
    "    \n",
    "    def forward(self, x):\n",
    "        return self.mlp(x)\n",
    "\n",
    "    def predict_proba(self, x):\n",
    "        return sigmoid(self(x))\n",
    "    \n",
    "    def predict(self, x, threshold: float = 0.5):\n",
    "        y_pred_score = self.predict_proba(x)\n",
    "        return (y_pred_score > threshold).to(torch.int32)\n"
   ]
  },
  {
   "cell_type": "code",
   "execution_count": 117,
   "metadata": {},
   "outputs": [],
   "source": [
    "# define all the hyperparameters\n",
    "\n",
    "learning_rate = 1e-3\n",
    "dropout_p = 0.5\n",
    "l2_reg = 1e-4\n",
    "batch_size = 128\n",
    "max_epochs = 300\n",
    "\n",
    "early_stopping_patience = 4"
   ]
  },
  {
   "cell_type": "code",
   "execution_count": 118,
   "metadata": {
    "scrolled": true
   },
   "outputs": [
    {
     "name": "stdout",
     "output_type": "stream",
     "text": [
      "Epoch 0 train loss: 0.5868, eval loss 0.8216946125030518\n",
      "Epoch 1 train loss: 0.5739, eval loss 0.8168705105781555\n",
      "Epoch 2 train loss: 0.5502, eval loss 0.8165315389633179\n",
      "Epoch 3 train loss: 0.5552, eval loss 0.8152316808700562\n",
      "Epoch 4 train loss: 0.4992, eval loss 0.8126842379570007\n",
      "Epoch 5 train loss: 0.5229, eval loss 0.8123024106025696\n",
      "Epoch 6 train loss: 0.5411, eval loss 0.8127802014350891\n",
      "Epoch 7 train loss: 0.5371, eval loss 0.8111735582351685\n",
      "Epoch 8 train loss: 0.5725, eval loss 0.8113821148872375\n",
      "Epoch 9 train loss: 0.5783, eval loss 0.8102002143859863\n",
      "Epoch 10 train loss: 0.5290, eval loss 0.8108262419700623\n",
      "Epoch 11 train loss: 0.5245, eval loss 0.8099881410598755\n",
      "Epoch 12 train loss: 0.5365, eval loss 0.8098121881484985\n",
      "Epoch 13 train loss: 0.5003, eval loss 0.811077892780304\n",
      "Epoch 14 train loss: 0.4999, eval loss 0.8101715445518494\n",
      "Epoch 15 train loss: 0.4928, eval loss 0.809603750705719\n",
      "Epoch 16 train loss: 0.5250, eval loss 0.8087946772575378\n",
      "Epoch 17 train loss: 0.5835, eval loss 0.8091146349906921\n",
      "Epoch 18 train loss: 0.5213, eval loss 0.8082407712936401\n",
      "Epoch 19 train loss: 0.5053, eval loss 0.8087968230247498\n",
      "Epoch 20 train loss: 0.4234, eval loss 0.8085677027702332\n",
      "Epoch 21 train loss: 0.4688, eval loss 0.8082070350646973\n",
      "Epoch 22 train loss: 0.4546, eval loss 0.8087124228477478\n",
      "Epoch 23 train loss: 0.5254, eval loss 0.8075958490371704\n",
      "Epoch 24 train loss: 0.5087, eval loss 0.8077499866485596\n",
      "Epoch 25 train loss: 0.4219, eval loss 0.8073008060455322\n",
      "Epoch 26 train loss: 0.5347, eval loss 0.8074977993965149\n",
      "Epoch 27 train loss: 0.5091, eval loss 0.8086422681808472\n",
      "Epoch 28 train loss: 0.4512, eval loss 0.8078641295433044\n",
      "Epoch 29 train loss: 0.4504, eval loss 0.8073882460594177\n",
      "Epoch 30 train loss: 0.5729, eval loss 0.8081114888191223\n",
      "Epoch 31 train loss: 0.4572, eval loss 0.8078351616859436\n",
      "Epoch 32 train loss: 0.5229, eval loss 0.8066115975379944\n",
      "Epoch 33 train loss: 0.4899, eval loss 0.8077899813652039\n",
      "Epoch 34 train loss: 0.4119, eval loss 0.807831883430481\n",
      "Epoch 35 train loss: 0.4998, eval loss 0.8072535395622253\n",
      "Epoch 36 train loss: 0.4547, eval loss 0.8071706295013428\n",
      "Epoch 37 train loss: 0.4729, eval loss 0.8083198070526123\n",
      "Epoch 38 train loss: 0.4790, eval loss 0.8075432181358337\n",
      "Epoch 39 train loss: 0.4357, eval loss 0.8077709078788757\n",
      "Epoch 40 train loss: 0.4797, eval loss 0.8061741590499878\n",
      "Epoch 41 train loss: 0.5162, eval loss 0.8067328333854675\n",
      "Epoch 42 train loss: 0.4382, eval loss 0.8071526885032654\n",
      "Epoch 43 train loss: 0.4164, eval loss 0.8069574236869812\n",
      "Epoch 44 train loss: 0.5901, eval loss 0.8059355616569519\n",
      "Epoch 45 train loss: 0.3918, eval loss 0.8078745603561401\n",
      "Epoch 46 train loss: 0.4420, eval loss 0.8073309659957886\n",
      "Epoch 47 train loss: 0.3932, eval loss 0.8067142963409424\n",
      "Epoch 48 train loss: 0.3881, eval loss 0.8069782257080078\n",
      "Epoch 49 train loss: 0.4375, eval loss 0.8080312609672546\n",
      "Epoch 50 train loss: 0.3950, eval loss 0.8070152401924133\n",
      "Epoch 51 train loss: 0.4335, eval loss 0.8075532913208008\n",
      "Epoch 52 train loss: 0.4123, eval loss 0.807732343673706\n",
      "Epoch 53 train loss: 0.4609, eval loss 0.8063300251960754\n",
      "Epoch 54 train loss: 0.4600, eval loss 0.8076766729354858\n",
      "Epoch 55 train loss: 0.3989, eval loss 0.8062843084335327\n",
      "Epoch 56 train loss: 0.3829, eval loss 0.8063662052154541\n",
      "Epoch 57 train loss: 0.3569, eval loss 0.8062078356742859\n",
      "Epoch 58 train loss: 0.4921, eval loss 0.8067587018013\n",
      "Epoch 59 train loss: 0.3634, eval loss 0.806848406791687\n",
      "Epoch 60 train loss: 0.3919, eval loss 0.8080555200576782\n",
      "Epoch 61 train loss: 0.4203, eval loss 0.8069068193435669\n",
      "Epoch 62 train loss: 0.3596, eval loss 0.8065268397331238\n",
      "Epoch 63 train loss: 0.4046, eval loss 0.8065195679664612\n",
      "Epoch 64 train loss: 0.4726, eval loss 0.8068048357963562\n",
      "Epoch 65 train loss: 0.4749, eval loss 0.8076092004776001\n",
      "Epoch 66 train loss: 0.4073, eval loss 0.8069726824760437\n",
      "Epoch 67 train loss: 0.3822, eval loss 0.807303249835968\n",
      "Epoch 68 train loss: 0.3902, eval loss 0.8061935901641846\n",
      "Epoch 69 train loss: 0.3763, eval loss 0.808129072189331\n",
      "Epoch 70 train loss: 0.4137, eval loss 0.8067656755447388\n",
      "Epoch 71 train loss: 0.4070, eval loss 0.806370735168457\n",
      "Epoch 72 train loss: 0.4250, eval loss 0.8058058619499207\n",
      "Epoch 73 train loss: 0.4446, eval loss 0.8065720200538635\n",
      "Epoch 74 train loss: 0.3827, eval loss 0.8068686723709106\n",
      "Epoch 75 train loss: 0.4286, eval loss 0.8059638738632202\n",
      "Epoch 76 train loss: 0.4292, eval loss 0.8071220517158508\n",
      "Epoch 77 train loss: 0.3846, eval loss 0.8052471280097961\n",
      "Epoch 78 train loss: 0.4011, eval loss 0.8067225217819214\n",
      "Epoch 79 train loss: 0.3590, eval loss 0.8072381615638733\n",
      "Epoch 80 train loss: 0.3652, eval loss 0.807560384273529\n",
      "Epoch 81 train loss: 0.4450, eval loss 0.8058010935783386\n",
      "Epoch 82 train loss: 0.4227, eval loss 0.8068171143531799\n",
      "Epoch 83 train loss: 0.3850, eval loss 0.8073766827583313\n",
      "Epoch 84 train loss: 0.3652, eval loss 0.8077922463417053\n",
      "Epoch 85 train loss: 0.4298, eval loss 0.8072178363800049\n",
      "Epoch 86 train loss: 0.4002, eval loss 0.8069862723350525\n",
      "Epoch 87 train loss: 0.4790, eval loss 0.8067868947982788\n",
      "Epoch 88 train loss: 0.4031, eval loss 0.8064910769462585\n",
      "Epoch 89 train loss: 0.3892, eval loss 0.8071257472038269\n",
      "Epoch 90 train loss: 0.3392, eval loss 0.8074855804443359\n",
      "Epoch 91 train loss: 0.3245, eval loss 0.8062490820884705\n",
      "Epoch 92 train loss: 0.3786, eval loss 0.805776059627533\n",
      "Epoch 93 train loss: 0.4048, eval loss 0.8056427240371704\n",
      "Epoch 94 train loss: 0.3951, eval loss 0.807338297367096\n",
      "Epoch 95 train loss: 0.3785, eval loss 0.8064819574356079\n",
      "Epoch 96 train loss: 0.4286, eval loss 0.8067945241928101\n",
      "Epoch 97 train loss: 0.3481, eval loss 0.8076298236846924\n",
      "Epoch 98 train loss: 0.4203, eval loss 0.8068970441818237\n",
      "Epoch 99 train loss: 0.3637, eval loss 0.8055997490882874\n",
      "Epoch 100 train loss: 0.3525, eval loss 0.8077185153961182\n",
      "Epoch 101 train loss: 0.3922, eval loss 0.8065666556358337\n",
      "Epoch 102 train loss: 0.3586, eval loss 0.8069320917129517\n",
      "Epoch 103 train loss: 0.3853, eval loss 0.807669460773468\n",
      "Epoch 104 train loss: 0.3656, eval loss 0.8065000176429749\n",
      "Epoch 105 train loss: 0.3369, eval loss 0.8066062331199646\n",
      "Epoch 106 train loss: 0.3576, eval loss 0.8077166080474854\n",
      "Epoch 107 train loss: 0.3589, eval loss 0.8064261078834534\n",
      "Epoch 108 train loss: 0.3579, eval loss 0.8064948916435242\n",
      "Epoch 109 train loss: 0.3512, eval loss 0.8067485094070435\n",
      "Epoch 110 train loss: 0.3834, eval loss 0.8060988187789917\n",
      "Epoch 111 train loss: 0.3455, eval loss 0.8057751059532166\n",
      "Epoch 112 train loss: 0.3083, eval loss 0.8063135147094727\n",
      "Epoch 113 train loss: 0.4441, eval loss 0.8061762452125549\n",
      "Epoch 114 train loss: 0.3874, eval loss 0.8069049119949341\n",
      "Epoch 115 train loss: 0.3212, eval loss 0.8060840964317322\n",
      "Epoch 116 train loss: 0.3452, eval loss 0.8074619770050049\n",
      "Epoch 117 train loss: 0.4211, eval loss 0.8061770796775818\n",
      "Epoch 118 train loss: 0.3176, eval loss 0.8070391416549683\n",
      "Epoch 119 train loss: 0.3581, eval loss 0.8073530793190002\n",
      "Epoch 120 train loss: 0.3416, eval loss 0.8056801557540894\n",
      "Epoch 121 train loss: 0.3028, eval loss 0.8064743876457214\n",
      "Epoch 122 train loss: 0.3229, eval loss 0.807084321975708\n",
      "Epoch 123 train loss: 0.3164, eval loss 0.8055666089057922\n",
      "Epoch 124 train loss: 0.3476, eval loss 0.8068729639053345\n",
      "Epoch 125 train loss: 0.4186, eval loss 0.8080437779426575\n",
      "Epoch 126 train loss: 0.3214, eval loss 0.8070499897003174\n",
      "Epoch 127 train loss: 0.4245, eval loss 0.8063324689865112\n",
      "Epoch 128 train loss: 0.3015, eval loss 0.8066378235816956\n",
      "Epoch 129 train loss: 0.3163, eval loss 0.8055019378662109\n",
      "Epoch 130 train loss: 0.3475, eval loss 0.8066864609718323\n",
      "Epoch 131 train loss: 0.3145, eval loss 0.8075456619262695\n",
      "Epoch 132 train loss: 0.3586, eval loss 0.8057125806808472\n",
      "Epoch 133 train loss: 0.3457, eval loss 0.8059759736061096\n",
      "Epoch 134 train loss: 0.3872, eval loss 0.8062220811843872\n",
      "Epoch 135 train loss: 0.3671, eval loss 0.8064279556274414\n",
      "Epoch 136 train loss: 0.3449, eval loss 0.8062431812286377\n",
      "Epoch 137 train loss: 0.3511, eval loss 0.8079882264137268\n",
      "Epoch 138 train loss: 0.4748, eval loss 0.8077422380447388\n",
      "Epoch 139 train loss: 0.3444, eval loss 0.8067969679832458\n",
      "Epoch 140 train loss: 0.3921, eval loss 0.8077501654624939\n"
     ]
    },
    {
     "name": "stdout",
     "output_type": "stream",
     "text": [
      "Epoch 141 train loss: 0.3816, eval loss 0.8066979050636292\n",
      "Epoch 142 train loss: 0.3283, eval loss 0.8078044652938843\n",
      "Epoch 143 train loss: 0.3155, eval loss 0.8067137002944946\n",
      "Epoch 144 train loss: 0.3472, eval loss 0.8061167597770691\n",
      "Epoch 145 train loss: 0.3276, eval loss 0.8065548539161682\n",
      "Epoch 146 train loss: 0.3492, eval loss 0.8074906468391418\n",
      "Epoch 147 train loss: 0.3425, eval loss 0.8068383932113647\n",
      "Epoch 148 train loss: 0.3380, eval loss 0.8081295490264893\n",
      "Epoch 149 train loss: 0.3638, eval loss 0.807314395904541\n",
      "Epoch 150 train loss: 0.3210, eval loss 0.80665522813797\n",
      "Epoch 151 train loss: 0.3132, eval loss 0.8054224252700806\n",
      "Epoch 152 train loss: 0.3184, eval loss 0.8043978810310364\n",
      "Epoch 153 train loss: 0.3269, eval loss 0.8066335320472717\n",
      "Epoch 154 train loss: 0.3247, eval loss 0.8075410723686218\n",
      "Epoch 155 train loss: 0.3472, eval loss 0.8055764436721802\n",
      "Epoch 156 train loss: 0.3854, eval loss 0.8055467009544373\n",
      "Epoch 157 train loss: 0.3312, eval loss 0.8077822923660278\n",
      "Epoch 158 train loss: 0.3023, eval loss 0.804728627204895\n",
      "Epoch 159 train loss: 0.3687, eval loss 0.8064461350440979\n",
      "Epoch 160 train loss: 0.3638, eval loss 0.8052037954330444\n",
      "Epoch 161 train loss: 0.3196, eval loss 0.8053996562957764\n",
      "Epoch 162 train loss: 0.3042, eval loss 0.8066168427467346\n",
      "Epoch 163 train loss: 0.3769, eval loss 0.8075071573257446\n",
      "Epoch 164 train loss: 0.3252, eval loss 0.8082000613212585\n",
      "Epoch 165 train loss: 0.3370, eval loss 0.8064397573471069\n",
      "Epoch 166 train loss: 0.3343, eval loss 0.8078116774559021\n",
      "Epoch 167 train loss: 0.3280, eval loss 0.8064890503883362\n",
      "Epoch 168 train loss: 0.3029, eval loss 0.8066994547843933\n",
      "Epoch 169 train loss: 0.3870, eval loss 0.8067635893821716\n",
      "Epoch 170 train loss: 0.3935, eval loss 0.8080303072929382\n",
      "Epoch 171 train loss: 0.3135, eval loss 0.806543231010437\n",
      "Epoch 172 train loss: 0.3198, eval loss 0.8069669604301453\n",
      "Epoch 173 train loss: 0.3138, eval loss 0.8062257170677185\n",
      "Epoch 174 train loss: 0.3457, eval loss 0.8062968850135803\n",
      "Epoch 175 train loss: 0.3958, eval loss 0.8052873015403748\n",
      "Epoch 176 train loss: 0.3288, eval loss 0.8066008687019348\n",
      "Epoch 177 train loss: 0.3770, eval loss 0.8065108060836792\n",
      "Epoch 178 train loss: 0.3210, eval loss 0.8070724606513977\n",
      "Epoch 179 train loss: 0.3095, eval loss 0.8045008778572083\n",
      "Epoch 180 train loss: 0.3628, eval loss 0.8078166246414185\n",
      "Epoch 181 train loss: 0.3214, eval loss 0.8055914044380188\n",
      "Epoch 182 train loss: 0.3012, eval loss 0.8069574236869812\n",
      "Epoch 183 train loss: 0.2730, eval loss 0.8063424229621887\n",
      "Epoch 184 train loss: 0.3061, eval loss 0.8066478371620178\n",
      "Epoch 185 train loss: 0.3726, eval loss 0.8067188858985901\n",
      "Epoch 186 train loss: 0.3033, eval loss 0.8056742548942566\n",
      "Epoch 187 train loss: 0.3035, eval loss 0.8054572939872742\n",
      "Epoch 188 train loss: 0.3275, eval loss 0.8063554167747498\n",
      "Epoch 189 train loss: 0.3428, eval loss 0.8063063025474548\n",
      "Epoch 190 train loss: 0.3180, eval loss 0.8050563931465149\n",
      "Epoch 191 train loss: 0.3417, eval loss 0.8058959245681763\n",
      "Epoch 192 train loss: 0.3860, eval loss 0.8055490851402283\n",
      "Epoch 193 train loss: 0.3345, eval loss 0.8066034913063049\n",
      "Epoch 194 train loss: 0.3389, eval loss 0.8063371777534485\n",
      "Epoch 195 train loss: 0.2659, eval loss 0.8042268753051758\n",
      "Epoch 196 train loss: 0.3657, eval loss 0.8067262172698975\n",
      "Epoch 197 train loss: 0.2684, eval loss 0.8064305186271667\n",
      "Epoch 198 train loss: 0.3298, eval loss 0.8079147338867188\n",
      "Epoch 199 train loss: 0.2705, eval loss 0.8063481450080872\n",
      "Epoch 200 train loss: 0.3646, eval loss 0.8072160482406616\n",
      "Epoch 201 train loss: 0.3799, eval loss 0.8071815967559814\n",
      "Epoch 202 train loss: 0.2687, eval loss 0.807755172252655\n",
      "Epoch 203 train loss: 0.2772, eval loss 0.8045282959938049\n",
      "Epoch 204 train loss: 0.3129, eval loss 0.8073258399963379\n",
      "Epoch 205 train loss: 0.2545, eval loss 0.8054277300834656\n",
      "Epoch 206 train loss: 0.3717, eval loss 0.8081114888191223\n",
      "Epoch 207 train loss: 0.3153, eval loss 0.8050348162651062\n",
      "Epoch 208 train loss: 0.2488, eval loss 0.8049203157424927\n",
      "Epoch 209 train loss: 0.3294, eval loss 0.8065747618675232\n",
      "Epoch 210 train loss: 0.2896, eval loss 0.8061269521713257\n",
      "Epoch 211 train loss: 0.3614, eval loss 0.805487334728241\n",
      "Epoch 212 train loss: 0.4323, eval loss 0.8075202703475952\n",
      "Epoch 213 train loss: 0.3148, eval loss 0.8062434196472168\n",
      "Epoch 214 train loss: 0.3114, eval loss 0.8078110218048096\n",
      "Epoch 215 train loss: 0.3908, eval loss 0.8076378703117371\n",
      "Epoch 216 train loss: 0.2924, eval loss 0.8070108890533447\n",
      "Epoch 217 train loss: 0.3837, eval loss 0.8074809908866882\n",
      "Epoch 218 train loss: 0.2827, eval loss 0.8061591982841492\n",
      "Epoch 219 train loss: 0.2377, eval loss 0.805977463722229\n",
      "Epoch 220 train loss: 0.2845, eval loss 0.8053573369979858\n",
      "Epoch 221 train loss: 0.2828, eval loss 0.8056408166885376\n",
      "Epoch 222 train loss: 0.2561, eval loss 0.8055217266082764\n",
      "Epoch 223 train loss: 0.3441, eval loss 0.808831512928009\n",
      "Epoch 224 train loss: 0.2979, eval loss 0.8062739968299866\n",
      "Epoch 225 train loss: 0.3452, eval loss 0.8072576522827148\n",
      "Epoch 226 train loss: 0.2448, eval loss 0.8059259057044983\n",
      "Epoch 227 train loss: 0.2631, eval loss 0.8087887167930603\n",
      "Epoch 228 train loss: 0.2767, eval loss 0.8069452047348022\n",
      "Epoch 229 train loss: 0.2605, eval loss 0.8067329525947571\n",
      "Epoch 230 train loss: 0.3785, eval loss 0.807025134563446\n",
      "Epoch 231 train loss: 0.3013, eval loss 0.8058355450630188\n",
      "Epoch 232 train loss: 0.2989, eval loss 0.8063174486160278\n",
      "Epoch 233 train loss: 0.2831, eval loss 0.8058371543884277\n",
      "Epoch 234 train loss: 0.2673, eval loss 0.806023359298706\n",
      "Epoch 235 train loss: 0.2965, eval loss 0.8044812083244324\n",
      "Epoch 236 train loss: 0.2699, eval loss 0.8053064942359924\n",
      "Epoch 237 train loss: 0.4185, eval loss 0.807802677154541\n",
      "Epoch 238 train loss: 0.2794, eval loss 0.8068534731864929\n",
      "Epoch 239 train loss: 0.3195, eval loss 0.8060265779495239\n",
      "Epoch 240 train loss: 0.3273, eval loss 0.8048145771026611\n",
      "Epoch 241 train loss: 0.2534, eval loss 0.8058114647865295\n",
      "Epoch 242 train loss: 0.2703, eval loss 0.805222749710083\n",
      "Epoch 243 train loss: 0.2907, eval loss 0.8064994812011719\n",
      "Epoch 244 train loss: 0.2909, eval loss 0.8053720593452454\n",
      "Epoch 245 train loss: 0.3102, eval loss 0.804192304611206\n",
      "Epoch 246 train loss: 0.2769, eval loss 0.8049164414405823\n",
      "Epoch 247 train loss: 0.3591, eval loss 0.8057136535644531\n",
      "Epoch 248 train loss: 0.2920, eval loss 0.8057822585105896\n",
      "Epoch 249 train loss: 0.3406, eval loss 0.8075582385063171\n",
      "Epoch 250 train loss: 0.3409, eval loss 0.8050873279571533\n",
      "Epoch 251 train loss: 0.3465, eval loss 0.8064526915550232\n",
      "Epoch 252 train loss: 0.2235, eval loss 0.8072577714920044\n",
      "Epoch 253 train loss: 0.2858, eval loss 0.808994710445404\n",
      "Epoch 254 train loss: 0.2859, eval loss 0.8071829676628113\n",
      "Epoch 255 train loss: 0.2476, eval loss 0.8067793250083923\n",
      "Epoch 256 train loss: 0.3297, eval loss 0.8058233857154846\n",
      "Epoch 257 train loss: 0.3088, eval loss 0.8051066994667053\n",
      "Epoch 258 train loss: 0.3080, eval loss 0.8049845695495605\n",
      "Epoch 259 train loss: 0.2369, eval loss 0.8065851330757141\n",
      "Epoch 260 train loss: 0.2820, eval loss 0.8059155344963074\n",
      "Epoch 261 train loss: 0.2702, eval loss 0.8078451156616211\n",
      "Epoch 262 train loss: 0.3164, eval loss 0.8066734075546265\n",
      "Epoch 263 train loss: 0.2763, eval loss 0.8060922622680664\n",
      "Epoch 264 train loss: 0.2498, eval loss 0.8071248531341553\n",
      "Epoch 265 train loss: 0.2936, eval loss 0.8050375580787659\n",
      "Epoch 266 train loss: 0.2779, eval loss 0.8060474991798401\n",
      "Epoch 267 train loss: 0.2263, eval loss 0.8066185712814331\n",
      "Epoch 268 train loss: 0.3200, eval loss 0.8066648840904236\n",
      "Epoch 269 train loss: 0.2680, eval loss 0.8060660362243652\n",
      "Epoch 270 train loss: 0.3446, eval loss 0.8054977059364319\n",
      "Epoch 271 train loss: 0.2792, eval loss 0.8068227171897888\n",
      "Epoch 272 train loss: 0.2681, eval loss 0.8066563606262207\n",
      "Epoch 273 train loss: 0.2776, eval loss 0.8049514293670654\n",
      "Epoch 274 train loss: 0.2847, eval loss 0.806311845779419\n",
      "Epoch 275 train loss: 0.2520, eval loss 0.8063065409660339\n",
      "Epoch 276 train loss: 0.2528, eval loss 0.8062946200370789\n",
      "Epoch 277 train loss: 0.2608, eval loss 0.8058348298072815\n",
      "Epoch 278 train loss: 0.3045, eval loss 0.8057186007499695\n",
      "Epoch 279 train loss: 0.3545, eval loss 0.8050652146339417\n",
      "Epoch 280 train loss: 0.2384, eval loss 0.8070239424705505\n"
     ]
    },
    {
     "name": "stdout",
     "output_type": "stream",
     "text": [
      "Epoch 281 train loss: 0.2578, eval loss 0.8050729036331177\n",
      "Epoch 282 train loss: 0.2339, eval loss 0.8078189492225647\n",
      "Epoch 283 train loss: 0.2387, eval loss 0.8049877882003784\n",
      "Epoch 284 train loss: 0.2793, eval loss 0.806774914264679\n",
      "Epoch 285 train loss: 0.2966, eval loss 0.8072342276573181\n",
      "Epoch 286 train loss: 0.2399, eval loss 0.8070871233940125\n",
      "Epoch 287 train loss: 0.2789, eval loss 0.8057252764701843\n",
      "Epoch 288 train loss: 0.3170, eval loss 0.8070083856582642\n",
      "Epoch 289 train loss: 0.2226, eval loss 0.8057518005371094\n",
      "Epoch 290 train loss: 0.2945, eval loss 0.8065741062164307\n",
      "Epoch 291 train loss: 0.3469, eval loss 0.8050151467323303\n",
      "Epoch 292 train loss: 0.3006, eval loss 0.8068387508392334\n",
      "Epoch 293 train loss: 0.3419, eval loss 0.8068228960037231\n",
      "Epoch 294 train loss: 0.2618, eval loss 0.8060246706008911\n",
      "Epoch 295 train loss: 0.2501, eval loss 0.806863009929657\n",
      "Epoch 296 train loss: 0.2293, eval loss 0.8057481050491333\n",
      "Epoch 297 train loss: 0.3318, eval loss 0.8079559803009033\n",
      "Epoch 298 train loss: 0.2695, eval loss 0.806171178817749\n",
      "Epoch 299 train loss: 0.3900, eval loss 0.8064295649528503\n"
     ]
    }
   ],
   "source": [
    "from sklearn.utils.class_weight import compute_class_weight\n",
    "\n",
    "model = NormalizingMLP(\n",
    "    input_size=X_train.shape[1], \n",
    "    dropout_p=dropout_p\n",
    ")\n",
    "optimizer = torch.optim.AdamW(\n",
    "    model.parameters(), \n",
    "    lr=learning_rate, \n",
    "    weight_decay=l2_reg\n",
    ")\n",
    "\n",
    "weights = compute_class_weight(\"balanced\", \n",
    "                               classes=np.unique(y_train), \n",
    "                               y=np.concatenate(y_train.numpy()))\n",
    "\n",
    "loss_fn = torch.nn.BCEWithLogitsLoss(pos_weight=torch.tensor(weights[1]))\n",
    "\n",
    "train_dataset = MyDataset(X_train, y_train)\n",
    "train_dataloader = DataLoader(train_dataset, batch_size=batch_size)\n",
    "\n",
    "steps_without_improvement = 0\n",
    "\n",
    "best_val_loss = np.inf\n",
    "best_model = None\n",
    "best_threshold = None\n",
    "\n",
    "for epoch_num in range(max_epochs):\n",
    "    model.train()\n",
    "    \n",
    "    # note that we are using DataLoader to get batches\n",
    "    for X_batch, y_batch in train_dataloader:\n",
    "        y_pred = model(X_batch)\n",
    "        \n",
    "        loss = loss_fn(y_pred, y_batch)\n",
    "        loss.backward()\n",
    "        \n",
    "        optimizer.step()\n",
    "        optimizer.zero_grad()\n",
    "    \n",
    "    eval_model = evaluate_model(model, X_valid, y_valid, loss_fn)\n",
    "    \n",
    "    if eval_model[\"loss_value\"] < best_val_loss:\n",
    "        best_model                = deepcopy(model)\n",
    "        best_loss                 = eval_model[\"loss_value\"]\n",
    "        best_threshold            = eval_model[\"threshold\"]\n",
    "        steps_without_improvement = 0\n",
    "    else:\n",
    "        steps_without_improvement += 1\n",
    "        if steps_without_improvement >= early_stopping_patience:\n",
    "            print(\"Early stop\")\n",
    "            break\n",
    "    \n",
    "    print(f\"Epoch {epoch_num} train loss: {loss.item():.4f}, eval loss {eval_model['loss_value']}\")\n"
   ]
  },
  {
   "cell_type": "code",
   "execution_count": 120,
   "metadata": {
    "scrolled": true
   },
   "outputs": [
    {
     "name": "stdout",
     "output_type": "stream",
     "text": [
      "AUROC: 89.13%\n",
      "F1: 67.63%\n",
      "Precision: 65.00%\n",
      "Recall: 70.47%\n"
     ]
    }
   ],
   "source": [
    "test_metrics = evaluate_model(best_model, X_test, y_test, loss_fn, best_threshold)\n",
    "\n",
    "print(f\"AUROC: {100 * test_metrics['auroc']:.2f}%\")\n",
    "print(f\"F1: {100 * test_metrics['f1_score']:.2f}%\")\n",
    "print(f\"Precision: {100 * test_metrics['precision_score']:.2f}%\")\n",
    "print(f\"Recall: {100 * test_metrics['recall_score']:.2f}%\")"
   ]
  },
  {
   "cell_type": "markdown",
   "metadata": {
    "id": "XyoRnHT4GFR9"
   },
   "source": [
    "## Akceleracja sprzętowa (dla zainteresowanych)"
   ]
  },
  {
   "cell_type": "markdown",
   "metadata": {},
   "source": [
    "Jak wcześniej wspominaliśmy, użycie akceleracji sprzętowej, czyli po prostu GPU do obliczeń, jest bardzo efektywne w przypadku sieci neuronowych. Karty graficzne bardzo efektywnie mnożą macierze, a sieci neuronowe to, jak można było się przekonać, dużo mnożenia macierzy.\n",
    "\n",
    "W PyTorchu jest to dosyć łatwe, ale trzeba robić to explicite. Służy do tego metoda `.to()`, która przenosi tensory między CPU i GPU. Poniżej przykład, jak to się robi (oczywiście trzeba mieć skonfigurowane GPU, żeby działało):"
   ]
  },
  {
   "cell_type": "code",
   "execution_count": 45,
   "metadata": {},
   "outputs": [],
   "source": [
    "import time \n",
    "\n",
    "\n",
    "class CudaMLP(nn.Module):\n",
    "    def __init__(self, input_size: int, dropout_p: float = 0.5):\n",
    "        super().__init__()\n",
    "\n",
    "        self.mlp = nn.Sequential(\n",
    "            nn.Linear(input_size, 512),\n",
    "            nn.BatchNorm1d(512),\n",
    "            nn.ReLU(),\n",
    "            nn.Dropout(dropout_p),\n",
    "            nn.Linear(512, 256),\n",
    "            nn.BatchNorm1d(256),\n",
    "            nn.ReLU(),\n",
    "            nn.Dropout(dropout_p),\n",
    "            nn.Linear(256, 256),\n",
    "            nn.BatchNorm1d(256),\n",
    "            nn.ReLU(),\n",
    "            nn.Dropout(dropout_p),\n",
    "            nn.Linear(256, 128),\n",
    "            nn.BatchNorm1d(128),\n",
    "            nn.ReLU(),\n",
    "            nn.Dropout(dropout_p),\n",
    "            nn.Linear(128, 1),\n",
    "        )\n",
    "    \n",
    "    def forward(self, x):\n",
    "        return self.mlp(x)\n",
    "\n",
    "    def predict_proba(self, x):\n",
    "        return sigmoid(self(x))\n",
    "    \n",
    "    def predict(self, x, threshold: float = 0.5):\n",
    "        y_pred_score = self.predict_proba(x)\n",
    "        return (y_pred_score > threshold).to(torch.int32)\n",
    "\n",
    "\n",
    "model = CudaMLP(X_train.shape[1]).to('cuda')\n",
    "\n",
    "optimizer = torch.optim.AdamW(model.parameters(), lr=learning_rate, weight_decay=1e-4)\n",
    "\n",
    "# note that we are using loss function with sigmoid built in\n",
    "loss_fn = torch.nn.BCEWithLogitsLoss(pos_weight=torch.from_numpy(weights)[1].to('cuda'))\n",
    "\n",
    "step_counter = 0\n",
    "time_from_eval = time.time()\n",
    "for epoch_id in range(30):\n",
    "    for batch_x, batch_y in train_dataloader:\n",
    "        batch_x = batch_x.to('cuda')\n",
    "        batch_y = batch_y.to('cuda')\n",
    "        \n",
    "        loss = loss_fn(model(batch_x), batch_y)\n",
    "        loss.backward()\n",
    "\n",
    "        optimizer.step()\n",
    "        optimizer.zero_grad()\n",
    "        \n",
    "        if step_counter % evaluation_steps == 0:\n",
    "            print(f\"Epoch {epoch_id} train loss: {loss.item():.4f}, time: {time.time() - time_from_eval}\")\n",
    "            time_from_eval = time.time()\n",
    "\n",
    "        step_counter += 1\n",
    "\n",
    "test_res = evaluate_model(model.to('cpu'), X_test, y_test, loss_fn.to('cpu'), threshold=0.5)\n",
    "\n",
    "print(f\"AUROC: {100 * test_res['AUROC']:.2f}%\")\n",
    "print(f\"F1: {100 * test_res['F1-score']:.2f}%\")\n",
    "print(test_res)"
   ]
  },
  {
   "cell_type": "markdown",
   "metadata": {},
   "source": [
    "Co prawda ten model nie będzie tak dobry jak ten z laboratorium, ale zwróć uwagę, o ile jest większy, a przy tym szybszy.\n",
    "\n",
    "Dla zainteresowanych polecamy [tę serie artykułów](https://medium.com/@adi.fu7/ai-accelerators-part-i-intro-822c2cdb4ca4)"
   ]
  },
  {
   "cell_type": "markdown",
   "metadata": {},
   "source": [
    "## Zadanie dla chętnych"
   ]
  },
  {
   "cell_type": "markdown",
   "metadata": {},
   "source": [
    "Jak widzieliśmy, sieci neuronowe mają bardzo dużo hiperparametrów. Przeszukiwanie ich grid search'em jest więc niewykonalne, a chociaż random search by działał, to potrzebowałby wielu iteracji, co też jest kosztowne obliczeniowo.\n",
    "\n",
    "Zaimplementuj inteligentne przeszukiwanie przestrzeni hiperparametrów za pomocą biblioteki [Optuna](https://optuna.org/). Implementuje ona między innymi algorytm Tree Parzen Estimator (TPE), należący do grupy algorytmów typu Bayesian search. Typowo osiągają one bardzo dobre wyniki, a właściwie zawsze lepsze od przeszukiwania losowego. Do tego wystarcza im często niewielka liczba kroków.\n",
    "\n",
    "Zaimplementuj 3-warstwową sieć MLP, gdzie pierwsza warstwa ma rozmiar ukryty N, a druga N // 2. Ucz ją optymalizatorem Adam przez maksymalnie 300 epok z cierpliwością 10.\n",
    "\n",
    "Przeszukaj wybrane zakresy dla hiperparametrów:\n",
    "- rozmiar warstw ukrytych (N)\n",
    "- stała ucząca\n",
    "- batch size\n",
    "- siła regularyzacji L2\n",
    "- prawdopodobieństwo dropoutu\n",
    "\n",
    "Wykorzystaj przynajmniej 30 iteracji. Następnie przełącz algorytm na losowy (Optuna także jego implementuje), wykonaj 30 iteracji i porównaj jakość wyników.\n",
    "\n",
    "Przydatne materiały:\n",
    "- [Optuna code examples - PyTorch](https://optuna.org/#code_examples)\n",
    "- [Auto-Tuning Hyperparameters with Optuna and PyTorch](https://www.youtube.com/watch?v=P6NwZVl8ttc)\n",
    "- [Hyperparameter Tuning of Neural Networks with Optuna and PyTorch](https://towardsdatascience.com/hyperparameter-tuning-of-neural-networks-with-optuna-and-pytorch-22e179efc837)\n",
    "- [Using Optuna to Optimize PyTorch Hyperparameters](https://medium.com/pytorch/using-optuna-to-optimize-pytorch-hyperparameters-990607385e36)"
   ]
  },
  {
   "cell_type": "code",
   "execution_count": null,
   "metadata": {},
   "outputs": [],
   "source": []
  }
 ],
 "metadata": {
  "colab": {
   "collapsed_sections": [],
   "provenance": []
  },
  "kernelspec": {
   "display_name": "Python 3 (ipykernel)",
   "language": "python",
   "name": "python3"
  },
  "language_info": {
   "codemirror_mode": {
    "name": "ipython",
    "version": 3
   },
   "file_extension": ".py",
   "mimetype": "text/x-python",
   "name": "python",
   "nbconvert_exporter": "python",
   "pygments_lexer": "ipython3",
   "version": "3.9.13"
  },
  "vscode": {
   "interpreter": {
    "hash": "a5d7af91182035c53be6efb3f9b18ffc3e259c9c524705249407647c970de949"
   }
  }
 },
 "nbformat": 4,
 "nbformat_minor": 1
}
